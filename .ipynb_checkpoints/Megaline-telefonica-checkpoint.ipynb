{
 "cells": [
  {
   "cell_type": "markdown",
   "metadata": {},
   "source": [
    "<a id='contenido'></a>"
   ]
  },
  {
   "cell_type": "markdown",
   "metadata": {
    "toc": true
   },
   "source": [
    "<h1>Table of Contents<span class=\"tocSkip\"></span></h1>\n",
    "<div class=\"toc\"><ul class=\"toc-item\"><li><span><a href=\"#Cargar-los-datos\" data-toc-modified-id=\"Cargar-los-datos-1\"><span class=\"toc-item-num\">1&nbsp;&nbsp;</span>Cargar los datos</a></span></li><li><span><a href=\"#Preparar-los-datos\" data-toc-modified-id=\"Preparar-los-datos-2\"><span class=\"toc-item-num\">2&nbsp;&nbsp;</span>Preparar los datos</a></span></li><li><span><a href=\"#Planes\" data-toc-modified-id=\"Planes-3\"><span class=\"toc-item-num\">3&nbsp;&nbsp;</span>Planes</a></span></li><li><span><a href=\"#Usuarios\" data-toc-modified-id=\"Usuarios-4\"><span class=\"toc-item-num\">4&nbsp;&nbsp;</span>Usuarios</a></span><ul class=\"toc-item\"><li><span><a href=\"#Corregir-datos\" data-toc-modified-id=\"Corregir-datos-4.1\"><span class=\"toc-item-num\">4.1&nbsp;&nbsp;</span>Corregir datos</a></span></li><li><span><a href=\"#Enriquecer-datos\" data-toc-modified-id=\"Enriquecer-datos-4.2\"><span class=\"toc-item-num\">4.2&nbsp;&nbsp;</span>Enriquecer datos</a></span></li></ul></li><li><span><a href=\"#Llamadas\" data-toc-modified-id=\"Llamadas-5\"><span class=\"toc-item-num\">5&nbsp;&nbsp;</span>Llamadas</a></span><ul class=\"toc-item\"><li><span><a href=\"#Corregir-datos\" data-toc-modified-id=\"Corregir-datos-5.1\"><span class=\"toc-item-num\">5.1&nbsp;&nbsp;</span>Corregir datos</a></span></li><li><span><a href=\"#Enriquecer-datos\" data-toc-modified-id=\"Enriquecer-datos-5.2\"><span class=\"toc-item-num\">5.2&nbsp;&nbsp;</span>Enriquecer datos</a></span></li></ul></li><li><span><a href=\"#Mensajes\" data-toc-modified-id=\"Mensajes-6\"><span class=\"toc-item-num\">6&nbsp;&nbsp;</span>Mensajes</a></span><ul class=\"toc-item\"><li><span><a href=\"#Corregir-datos\" data-toc-modified-id=\"Corregir-datos-6.1\"><span class=\"toc-item-num\">6.1&nbsp;&nbsp;</span>Corregir datos</a></span></li><li><span><a href=\"#Enriquecer-datos\" data-toc-modified-id=\"Enriquecer-datos-6.2\"><span class=\"toc-item-num\">6.2&nbsp;&nbsp;</span>Enriquecer datos</a></span></li></ul></li><li><span><a href=\"#Internet\" data-toc-modified-id=\"Internet-7\"><span class=\"toc-item-num\">7&nbsp;&nbsp;</span>Internet</a></span><ul class=\"toc-item\"><li><span><a href=\"#Corregir-datos\" data-toc-modified-id=\"Corregir-datos-7.1\"><span class=\"toc-item-num\">7.1&nbsp;&nbsp;</span>Corregir datos</a></span></li><li><span><a href=\"#Enriquecer-datos\" data-toc-modified-id=\"Enriquecer-datos-7.2\"><span class=\"toc-item-num\">7.2&nbsp;&nbsp;</span>Enriquecer datos</a></span></li></ul></li><li><span><a href=\"#Estudiar-las-condiciones-del-plan\" data-toc-modified-id=\"Estudiar-las-condiciones-del-plan-8\"><span class=\"toc-item-num\">8&nbsp;&nbsp;</span>Estudiar las condiciones del plan</a></span></li><li><span><a href=\"#Agregar-datos-por-usuario\" data-toc-modified-id=\"Agregar-datos-por-usuario-9\"><span class=\"toc-item-num\">9&nbsp;&nbsp;</span>Agregar datos por usuario</a></span></li><li><span><a href=\"#Estudia-el-comportamiento-del-usuario\" data-toc-modified-id=\"Estudia-el-comportamiento-del-usuario-10\"><span class=\"toc-item-num\">10&nbsp;&nbsp;</span>Estudia el comportamiento del usuario</a></span><ul class=\"toc-item\"><li><span><a href=\"#Llamadas\" data-toc-modified-id=\"Llamadas-10.1\"><span class=\"toc-item-num\">10.1&nbsp;&nbsp;</span>Llamadas</a></span></li><li><span><a href=\"#Mensajes\" data-toc-modified-id=\"Mensajes-10.2\"><span class=\"toc-item-num\">10.2&nbsp;&nbsp;</span>Mensajes</a></span></li><li><span><a href=\"#Internet\" data-toc-modified-id=\"Internet-10.3\"><span class=\"toc-item-num\">10.3&nbsp;&nbsp;</span>Internet</a></span></li></ul></li><li><span><a href=\"#Ingreso\" data-toc-modified-id=\"Ingreso-11\"><span class=\"toc-item-num\">11&nbsp;&nbsp;</span>Ingreso</a></span></li><li><span><a href=\"#Probar-las-hipótesis-estadísticas\" data-toc-modified-id=\"Probar-las-hipótesis-estadísticas-12\"><span class=\"toc-item-num\">12&nbsp;&nbsp;</span>Probar las hipótesis estadísticas</a></span></li><li><span><a href=\"#Conclusión-general\" data-toc-modified-id=\"Conclusión-general-13\"><span class=\"toc-item-num\">13&nbsp;&nbsp;</span>Conclusión general</a></span></li></ul></div>"
   ]
  },
  {
   "cell_type": "markdown",
   "metadata": {},
   "source": [
    "# Introducción\n",
    "En este proyecto vamos a analizar las tarifas de prepago Surf y Ultimate, que ofrece el operador de telecomunicaciones Megaline, con la finalidad de poder comunicar al departamento comercial cuál de los dos planes genera más ingresos y así poder ajustar el presupuesto en publicidad.  \n",
    "Para ello realizaremos el análisis de las tarifas de prepago, basados en los comportamiento de los clientes en el año 2018; quiénes son los clientes, de dónde son, qúe tarifa usan, el uso que hacen de las llamadas, mensajes y tráfico web.  \n",
    "Realizaremos un preprocesamiento de los datos, posteriormente un análisis de datos exploratorio y finalmente pruebas de hipótesis sobre el comportamiento del usuario, para cada una de las tarifas de prepago.  \n",
    "Finalmente, estudiaremos el gasto promedio de los usuarios de las tarifas Ultimate y Surf. Además, analizaremos si el gasto promedio de los usuarios en el área de estados Nueva York-Nueva Jersey es diferente al de los usuarios de otras regiones."
   ]
  },
  {
   "cell_type": "markdown",
   "metadata": {},
   "source": [
    "# Inicialización"
   ]
  },
  {
   "cell_type": "markdown",
   "metadata": {},
   "source": [
    "En esta sección vamos a cargar todas las librerías a usar para realizar el estudio."
   ]
  },
  {
   "cell_type": "code",
   "execution_count": 1,
   "metadata": {},
   "outputs": [],
   "source": [
    "# Cargar todas las librerías\n",
    "import pandas as pd\n",
    "import math\n",
    "import matplotlib.pyplot as plt\n",
    "import seaborn as sns\n",
    "import numpy as np\n",
    "from scipy import stats as st\n",
    "\n",
    "sns.set_palette(palette='pastel')"
   ]
  },
  {
   "cell_type": "markdown",
   "metadata": {},
   "source": [
    "[Contenido](#contenido)\n",
    "## Cargar los datos"
   ]
  },
  {
   "cell_type": "markdown",
   "metadata": {},
   "source": [
    "Realizaremos la carga de las distintas fuentes de datos en dataframes. Tenemos cinco archivos `'csv'` con los datos de llamadas, mensajes, internet, planes y usuarios."
   ]
  },
  {
   "cell_type": "code",
   "execution_count": 2,
   "metadata": {},
   "outputs": [],
   "source": [
    "# Creamos el archivo de datos para las llamadas\n",
    "data_calls=pd.read_csv('megaline_calls.csv')"
   ]
  },
  {
   "cell_type": "code",
   "execution_count": 3,
   "metadata": {},
   "outputs": [],
   "source": [
    "# Creamos el archivo de datos para los mensajes\n",
    "data_messages=pd.read_csv('megaline_messages.csv')"
   ]
  },
  {
   "cell_type": "code",
   "execution_count": 4,
   "metadata": {},
   "outputs": [],
   "source": [
    "# Creamos el archivo de datos para el uso de internet\n",
    "data_internet=pd.read_csv('megaline_internet.csv')"
   ]
  },
  {
   "cell_type": "code",
   "execution_count": 5,
   "metadata": {},
   "outputs": [],
   "source": [
    "# Creamos el archivo de datos para los usuarios\n",
    "data_users=pd.read_csv('megaline_users.csv')"
   ]
  },
  {
   "cell_type": "code",
   "execution_count": 6,
   "metadata": {},
   "outputs": [],
   "source": [
    "# Creamos el archivo de datos para los planes\n",
    "data_plans=pd.read_csv('megaline_plans.csv')"
   ]
  },
  {
   "cell_type": "markdown",
   "metadata": {},
   "source": [
    "[Contenido](#contenido)\n",
    "## Preparar los datos"
   ]
  },
  {
   "cell_type": "markdown",
   "metadata": {},
   "source": [
    "Ya que los datos para realizar el estudio provienen de varias tablas, vamos a proceder a examinar cada una, buscar si existe algún problema  y en caso de que presenten alguno proceder a corregirlo."
   ]
  },
  {
   "cell_type": "markdown",
   "metadata": {},
   "source": [
    "[Contenido](#contenido)\n",
    "## Planes"
   ]
  },
  {
   "cell_type": "code",
   "execution_count": 7,
   "metadata": {},
   "outputs": [
    {
     "name": "stdout",
     "output_type": "stream",
     "text": [
      "<class 'pandas.core.frame.DataFrame'>\n",
      "RangeIndex: 2 entries, 0 to 1\n",
      "Data columns (total 8 columns):\n",
      " #   Column                 Non-Null Count  Dtype  \n",
      "---  ------                 --------------  -----  \n",
      " 0   messages_included      2 non-null      int64  \n",
      " 1   mb_per_month_included  2 non-null      int64  \n",
      " 2   minutes_included       2 non-null      int64  \n",
      " 3   usd_monthly_pay        2 non-null      int64  \n",
      " 4   usd_per_gb             2 non-null      int64  \n",
      " 5   usd_per_message        2 non-null      float64\n",
      " 6   usd_per_minute         2 non-null      float64\n",
      " 7   plan_name              2 non-null      object \n",
      "dtypes: float64(2), int64(5), object(1)\n",
      "memory usage: 256.0+ bytes\n"
     ]
    }
   ],
   "source": [
    "# Imprimir la información general sobre el DataFrame de los planes\n",
    "data_plans.info()"
   ]
  },
  {
   "cell_type": "code",
   "execution_count": 8,
   "metadata": {},
   "outputs": [
    {
     "data": {
      "text/html": [
       "<div>\n",
       "<style scoped>\n",
       "    .dataframe tbody tr th:only-of-type {\n",
       "        vertical-align: middle;\n",
       "    }\n",
       "\n",
       "    .dataframe tbody tr th {\n",
       "        vertical-align: top;\n",
       "    }\n",
       "\n",
       "    .dataframe thead th {\n",
       "        text-align: right;\n",
       "    }\n",
       "</style>\n",
       "<table border=\"1\" class=\"dataframe\">\n",
       "  <thead>\n",
       "    <tr style=\"text-align: right;\">\n",
       "      <th></th>\n",
       "      <th>messages_included</th>\n",
       "      <th>mb_per_month_included</th>\n",
       "      <th>minutes_included</th>\n",
       "      <th>usd_monthly_pay</th>\n",
       "      <th>usd_per_gb</th>\n",
       "      <th>usd_per_message</th>\n",
       "      <th>usd_per_minute</th>\n",
       "      <th>plan_name</th>\n",
       "    </tr>\n",
       "  </thead>\n",
       "  <tbody>\n",
       "    <tr>\n",
       "      <th>0</th>\n",
       "      <td>50</td>\n",
       "      <td>15360</td>\n",
       "      <td>500</td>\n",
       "      <td>20</td>\n",
       "      <td>10</td>\n",
       "      <td>0.03</td>\n",
       "      <td>0.03</td>\n",
       "      <td>surf</td>\n",
       "    </tr>\n",
       "    <tr>\n",
       "      <th>1</th>\n",
       "      <td>1000</td>\n",
       "      <td>30720</td>\n",
       "      <td>3000</td>\n",
       "      <td>70</td>\n",
       "      <td>7</td>\n",
       "      <td>0.01</td>\n",
       "      <td>0.01</td>\n",
       "      <td>ultimate</td>\n",
       "    </tr>\n",
       "  </tbody>\n",
       "</table>\n",
       "</div>"
      ],
      "text/plain": [
       "   messages_included  mb_per_month_included  minutes_included  \\\n",
       "0                 50                  15360               500   \n",
       "1               1000                  30720              3000   \n",
       "\n",
       "   usd_monthly_pay  usd_per_gb  usd_per_message  usd_per_minute plan_name  \n",
       "0               20          10             0.03            0.03      surf  \n",
       "1               70           7             0.01            0.01  ultimate  "
      ]
     },
     "execution_count": 8,
     "metadata": {},
     "output_type": "execute_result"
    }
   ],
   "source": [
    "# Imprimir una muestra de los datos para los planes\n",
    "data_plans.head()"
   ]
  },
  {
   "cell_type": "markdown",
   "metadata": {},
   "source": [
    "Notamos que el nombre de las columnas está bien definido. Los tipos de datos corresponden a la información que presenta cada columna. La información de cada plan coincide con la descripción que se tiene de cada uno. **No tenemos problemas con esta tabla de datos.**"
   ]
  },
  {
   "cell_type": "markdown",
   "metadata": {},
   "source": [
    " "
   ]
  },
  {
   "cell_type": "markdown",
   "metadata": {},
   "source": [
    "[Contenido](#contenido)\n",
    "## Usuarios"
   ]
  },
  {
   "cell_type": "code",
   "execution_count": 9,
   "metadata": {},
   "outputs": [
    {
     "name": "stdout",
     "output_type": "stream",
     "text": [
      "<class 'pandas.core.frame.DataFrame'>\n",
      "RangeIndex: 500 entries, 0 to 499\n",
      "Data columns (total 8 columns):\n",
      " #   Column      Non-Null Count  Dtype \n",
      "---  ------      --------------  ----- \n",
      " 0   user_id     500 non-null    int64 \n",
      " 1   first_name  500 non-null    object\n",
      " 2   last_name   500 non-null    object\n",
      " 3   age         500 non-null    int64 \n",
      " 4   city        500 non-null    object\n",
      " 5   reg_date    500 non-null    object\n",
      " 6   plan        500 non-null    object\n",
      " 7   churn_date  34 non-null     object\n",
      "dtypes: int64(2), object(6)\n",
      "memory usage: 31.4+ KB\n"
     ]
    }
   ],
   "source": [
    "# Imprimir la información general sobre el DataFrame de los usuarios\n",
    "data_users.info()"
   ]
  },
  {
   "cell_type": "code",
   "execution_count": 10,
   "metadata": {},
   "outputs": [
    {
     "data": {
      "text/html": [
       "<div>\n",
       "<style scoped>\n",
       "    .dataframe tbody tr th:only-of-type {\n",
       "        vertical-align: middle;\n",
       "    }\n",
       "\n",
       "    .dataframe tbody tr th {\n",
       "        vertical-align: top;\n",
       "    }\n",
       "\n",
       "    .dataframe thead th {\n",
       "        text-align: right;\n",
       "    }\n",
       "</style>\n",
       "<table border=\"1\" class=\"dataframe\">\n",
       "  <thead>\n",
       "    <tr style=\"text-align: right;\">\n",
       "      <th></th>\n",
       "      <th>user_id</th>\n",
       "      <th>first_name</th>\n",
       "      <th>last_name</th>\n",
       "      <th>age</th>\n",
       "      <th>city</th>\n",
       "      <th>reg_date</th>\n",
       "      <th>plan</th>\n",
       "      <th>churn_date</th>\n",
       "    </tr>\n",
       "  </thead>\n",
       "  <tbody>\n",
       "    <tr>\n",
       "      <th>0</th>\n",
       "      <td>1000</td>\n",
       "      <td>Anamaria</td>\n",
       "      <td>Bauer</td>\n",
       "      <td>45</td>\n",
       "      <td>Atlanta-Sandy Springs-Roswell, GA MSA</td>\n",
       "      <td>2018-12-24</td>\n",
       "      <td>ultimate</td>\n",
       "      <td>NaN</td>\n",
       "    </tr>\n",
       "    <tr>\n",
       "      <th>1</th>\n",
       "      <td>1001</td>\n",
       "      <td>Mickey</td>\n",
       "      <td>Wilkerson</td>\n",
       "      <td>28</td>\n",
       "      <td>Seattle-Tacoma-Bellevue, WA MSA</td>\n",
       "      <td>2018-08-13</td>\n",
       "      <td>surf</td>\n",
       "      <td>NaN</td>\n",
       "    </tr>\n",
       "    <tr>\n",
       "      <th>2</th>\n",
       "      <td>1002</td>\n",
       "      <td>Carlee</td>\n",
       "      <td>Hoffman</td>\n",
       "      <td>36</td>\n",
       "      <td>Las Vegas-Henderson-Paradise, NV MSA</td>\n",
       "      <td>2018-10-21</td>\n",
       "      <td>surf</td>\n",
       "      <td>NaN</td>\n",
       "    </tr>\n",
       "    <tr>\n",
       "      <th>3</th>\n",
       "      <td>1003</td>\n",
       "      <td>Reynaldo</td>\n",
       "      <td>Jenkins</td>\n",
       "      <td>52</td>\n",
       "      <td>Tulsa, OK MSA</td>\n",
       "      <td>2018-01-28</td>\n",
       "      <td>surf</td>\n",
       "      <td>NaN</td>\n",
       "    </tr>\n",
       "    <tr>\n",
       "      <th>4</th>\n",
       "      <td>1004</td>\n",
       "      <td>Leonila</td>\n",
       "      <td>Thompson</td>\n",
       "      <td>40</td>\n",
       "      <td>Seattle-Tacoma-Bellevue, WA MSA</td>\n",
       "      <td>2018-05-23</td>\n",
       "      <td>surf</td>\n",
       "      <td>NaN</td>\n",
       "    </tr>\n",
       "  </tbody>\n",
       "</table>\n",
       "</div>"
      ],
      "text/plain": [
       "   user_id first_name  last_name  age                                   city  \\\n",
       "0     1000   Anamaria      Bauer   45  Atlanta-Sandy Springs-Roswell, GA MSA   \n",
       "1     1001     Mickey  Wilkerson   28        Seattle-Tacoma-Bellevue, WA MSA   \n",
       "2     1002     Carlee    Hoffman   36   Las Vegas-Henderson-Paradise, NV MSA   \n",
       "3     1003   Reynaldo    Jenkins   52                          Tulsa, OK MSA   \n",
       "4     1004    Leonila   Thompson   40        Seattle-Tacoma-Bellevue, WA MSA   \n",
       "\n",
       "     reg_date      plan churn_date  \n",
       "0  2018-12-24  ultimate        NaN  \n",
       "1  2018-08-13      surf        NaN  \n",
       "2  2018-10-21      surf        NaN  \n",
       "3  2018-01-28      surf        NaN  \n",
       "4  2018-05-23      surf        NaN  "
      ]
     },
     "execution_count": 10,
     "metadata": {},
     "output_type": "execute_result"
    }
   ],
   "source": [
    "# Imprimir una muestra de los datos para los usuarios\n",
    "data_users.head()"
   ]
  },
  {
   "cell_type": "markdown",
   "metadata": {},
   "source": [
    "Notamos que los nombres de las columnas están bien definidos. Tenemos valores nulos en la columna `'churn_date'`, lo que significa que la tarifa se estaba usando cuando se recuperaron los datos. La columna `'churn_date'` y `'reg_date'` deben ser de tipo `'datetime'` y no de tipo `'object'`."
   ]
  },
  {
   "cell_type": "markdown",
   "metadata": {},
   "source": [
    " "
   ]
  },
  {
   "cell_type": "markdown",
   "metadata": {},
   "source": [
    "### Corregir datos"
   ]
  },
  {
   "cell_type": "markdown",
   "metadata": {},
   "source": [
    "Aunque podemos sentirnos tentados a reemplazar los valores nulos en `'churn_date'` por `'2018-12-31'` ya que los datos bajo estudio lo haremos con respecto al año 2018, por el momento no lo haremos; ya que posiblemente después deseemos saber cuántos usuarios que hayan contratado algún plan en el año 2018 continuen usandolo.  \n",
    "Procedemos a cambiar el tipo de datos a las columnas: `'reg_date'` y `'churn_date'` a tipo fecha."
   ]
  },
  {
   "cell_type": "code",
   "execution_count": 11,
   "metadata": {},
   "outputs": [
    {
     "name": "stdout",
     "output_type": "stream",
     "text": [
      "<class 'pandas.core.frame.DataFrame'>\n",
      "RangeIndex: 500 entries, 0 to 499\n",
      "Data columns (total 8 columns):\n",
      " #   Column      Non-Null Count  Dtype         \n",
      "---  ------      --------------  -----         \n",
      " 0   user_id     500 non-null    int64         \n",
      " 1   first_name  500 non-null    object        \n",
      " 2   last_name   500 non-null    object        \n",
      " 3   age         500 non-null    int64         \n",
      " 4   city        500 non-null    object        \n",
      " 5   reg_date    500 non-null    datetime64[ns]\n",
      " 6   plan        500 non-null    object        \n",
      " 7   churn_date  34 non-null     datetime64[ns]\n",
      "dtypes: datetime64[ns](2), int64(2), object(4)\n",
      "memory usage: 31.4+ KB\n"
     ]
    }
   ],
   "source": [
    "# cambiamos el tipo de datos de la columnas 'reg_date' y 'churn_date'\n",
    "data_users['reg_date']=pd.to_datetime(data_users['reg_date'],format='%Y-%m-%d')\n",
    "data_users['churn_date']=pd.to_datetime(data_users['churn_date'],format='%Y-%m-%d')\n",
    "data_users.info()"
   ]
  },
  {
   "cell_type": "markdown",
   "metadata": {},
   "source": [
    "### Enriquecer datos"
   ]
  },
  {
   "cell_type": "markdown",
   "metadata": {},
   "source": [
    "Crearemos la columna `'month_activation'` para posteriormente ver el comportamiento de activación mensual para cada usuario."
   ]
  },
  {
   "cell_type": "code",
   "execution_count": 12,
   "metadata": {},
   "outputs": [],
   "source": [
    "# agregamos el mes de activacion\n",
    "data_users['month_activation']=data_users['reg_date'].dt.month"
   ]
  },
  {
   "cell_type": "markdown",
   "metadata": {},
   "source": [
    "[Contenido](#contenido)\n",
    "## Llamadas"
   ]
  },
  {
   "cell_type": "code",
   "execution_count": 13,
   "metadata": {},
   "outputs": [
    {
     "name": "stdout",
     "output_type": "stream",
     "text": [
      "<class 'pandas.core.frame.DataFrame'>\n",
      "RangeIndex: 137735 entries, 0 to 137734\n",
      "Data columns (total 4 columns):\n",
      " #   Column     Non-Null Count   Dtype  \n",
      "---  ------     --------------   -----  \n",
      " 0   id         137735 non-null  object \n",
      " 1   user_id    137735 non-null  int64  \n",
      " 2   call_date  137735 non-null  object \n",
      " 3   duration   137735 non-null  float64\n",
      "dtypes: float64(1), int64(1), object(2)\n",
      "memory usage: 4.2+ MB\n"
     ]
    }
   ],
   "source": [
    "# Imprimir la información general sobre el DataFrame de las llamadas\n",
    "data_calls.info()"
   ]
  },
  {
   "cell_type": "code",
   "execution_count": 14,
   "metadata": {},
   "outputs": [
    {
     "data": {
      "text/html": [
       "<div>\n",
       "<style scoped>\n",
       "    .dataframe tbody tr th:only-of-type {\n",
       "        vertical-align: middle;\n",
       "    }\n",
       "\n",
       "    .dataframe tbody tr th {\n",
       "        vertical-align: top;\n",
       "    }\n",
       "\n",
       "    .dataframe thead th {\n",
       "        text-align: right;\n",
       "    }\n",
       "</style>\n",
       "<table border=\"1\" class=\"dataframe\">\n",
       "  <thead>\n",
       "    <tr style=\"text-align: right;\">\n",
       "      <th></th>\n",
       "      <th>id</th>\n",
       "      <th>user_id</th>\n",
       "      <th>call_date</th>\n",
       "      <th>duration</th>\n",
       "    </tr>\n",
       "  </thead>\n",
       "  <tbody>\n",
       "    <tr>\n",
       "      <th>0</th>\n",
       "      <td>1000_93</td>\n",
       "      <td>1000</td>\n",
       "      <td>2018-12-27</td>\n",
       "      <td>8.52</td>\n",
       "    </tr>\n",
       "    <tr>\n",
       "      <th>1</th>\n",
       "      <td>1000_145</td>\n",
       "      <td>1000</td>\n",
       "      <td>2018-12-27</td>\n",
       "      <td>13.66</td>\n",
       "    </tr>\n",
       "    <tr>\n",
       "      <th>2</th>\n",
       "      <td>1000_247</td>\n",
       "      <td>1000</td>\n",
       "      <td>2018-12-27</td>\n",
       "      <td>14.48</td>\n",
       "    </tr>\n",
       "    <tr>\n",
       "      <th>3</th>\n",
       "      <td>1000_309</td>\n",
       "      <td>1000</td>\n",
       "      <td>2018-12-28</td>\n",
       "      <td>5.76</td>\n",
       "    </tr>\n",
       "    <tr>\n",
       "      <th>4</th>\n",
       "      <td>1000_380</td>\n",
       "      <td>1000</td>\n",
       "      <td>2018-12-30</td>\n",
       "      <td>4.22</td>\n",
       "    </tr>\n",
       "  </tbody>\n",
       "</table>\n",
       "</div>"
      ],
      "text/plain": [
       "         id  user_id   call_date  duration\n",
       "0   1000_93     1000  2018-12-27      8.52\n",
       "1  1000_145     1000  2018-12-27     13.66\n",
       "2  1000_247     1000  2018-12-27     14.48\n",
       "3  1000_309     1000  2018-12-28      5.76\n",
       "4  1000_380     1000  2018-12-30      4.22"
      ]
     },
     "execution_count": 14,
     "metadata": {},
     "output_type": "execute_result"
    }
   ],
   "source": [
    "# Imprimir una muestra de datos para llamadas\n",
    "data_calls.head()"
   ]
  },
  {
   "cell_type": "markdown",
   "metadata": {},
   "source": [
    "Notamos que los nombres de las columnas están bien definidos. El tipo de datos para la columna `'call_date'` debe ser de tipo `'datetime'` y no tipo `'object'`. Los valores en la columna `'duration'` deben redondearse hacia arriba para que estén expresadas en minutos, haremos esto así ya que las llamadas individuales se deben redondear."
   ]
  },
  {
   "cell_type": "markdown",
   "metadata": {},
   "source": [
    " "
   ]
  },
  {
   "cell_type": "markdown",
   "metadata": {},
   "source": [
    "### Corregir datos"
   ]
  },
  {
   "cell_type": "markdown",
   "metadata": {},
   "source": [
    "Corregiremos el tipo de datos a la columna `'call_date'` para que pueda ser tratada como fecha."
   ]
  },
  {
   "cell_type": "code",
   "execution_count": 15,
   "metadata": {},
   "outputs": [
    {
     "name": "stdout",
     "output_type": "stream",
     "text": [
      "<class 'pandas.core.frame.DataFrame'>\n",
      "RangeIndex: 137735 entries, 0 to 137734\n",
      "Data columns (total 4 columns):\n",
      " #   Column     Non-Null Count   Dtype         \n",
      "---  ------     --------------   -----         \n",
      " 0   id         137735 non-null  object        \n",
      " 1   user_id    137735 non-null  int64         \n",
      " 2   call_date  137735 non-null  datetime64[ns]\n",
      " 3   duration   137735 non-null  float64       \n",
      "dtypes: datetime64[ns](1), float64(1), int64(1), object(1)\n",
      "memory usage: 4.2+ MB\n"
     ]
    }
   ],
   "source": [
    "# cambiamos el tipo de datos de 'call_date'\n",
    "data_calls['call_date']=pd.to_datetime(data_calls['call_date'],format='%Y-%m-%d')\n",
    "data_calls.info()"
   ]
  },
  {
   "cell_type": "markdown",
   "metadata": {},
   "source": [
    "### Enriquecer datos"
   ]
  },
  {
   "cell_type": "markdown",
   "metadata": {},
   "source": [
    "Redondearemos los valores de la columna `'duration'` hacia arriba para que la duración se exprese en minutos. Las llamadas individuales deben redondearse, según las condiciones expresadas en el plan."
   ]
  },
  {
   "cell_type": "code",
   "execution_count": 16,
   "metadata": {},
   "outputs": [
    {
     "data": {
      "text/html": [
       "<div>\n",
       "<style scoped>\n",
       "    .dataframe tbody tr th:only-of-type {\n",
       "        vertical-align: middle;\n",
       "    }\n",
       "\n",
       "    .dataframe tbody tr th {\n",
       "        vertical-align: top;\n",
       "    }\n",
       "\n",
       "    .dataframe thead th {\n",
       "        text-align: right;\n",
       "    }\n",
       "</style>\n",
       "<table border=\"1\" class=\"dataframe\">\n",
       "  <thead>\n",
       "    <tr style=\"text-align: right;\">\n",
       "      <th></th>\n",
       "      <th>id</th>\n",
       "      <th>user_id</th>\n",
       "      <th>call_date</th>\n",
       "      <th>duration</th>\n",
       "    </tr>\n",
       "  </thead>\n",
       "  <tbody>\n",
       "    <tr>\n",
       "      <th>0</th>\n",
       "      <td>1000_93</td>\n",
       "      <td>1000</td>\n",
       "      <td>2018-12-27</td>\n",
       "      <td>9.0</td>\n",
       "    </tr>\n",
       "    <tr>\n",
       "      <th>1</th>\n",
       "      <td>1000_145</td>\n",
       "      <td>1000</td>\n",
       "      <td>2018-12-27</td>\n",
       "      <td>14.0</td>\n",
       "    </tr>\n",
       "    <tr>\n",
       "      <th>2</th>\n",
       "      <td>1000_247</td>\n",
       "      <td>1000</td>\n",
       "      <td>2018-12-27</td>\n",
       "      <td>15.0</td>\n",
       "    </tr>\n",
       "    <tr>\n",
       "      <th>3</th>\n",
       "      <td>1000_309</td>\n",
       "      <td>1000</td>\n",
       "      <td>2018-12-28</td>\n",
       "      <td>6.0</td>\n",
       "    </tr>\n",
       "    <tr>\n",
       "      <th>4</th>\n",
       "      <td>1000_380</td>\n",
       "      <td>1000</td>\n",
       "      <td>2018-12-30</td>\n",
       "      <td>5.0</td>\n",
       "    </tr>\n",
       "  </tbody>\n",
       "</table>\n",
       "</div>"
      ],
      "text/plain": [
       "         id  user_id  call_date  duration\n",
       "0   1000_93     1000 2018-12-27       9.0\n",
       "1  1000_145     1000 2018-12-27      14.0\n",
       "2  1000_247     1000 2018-12-27      15.0\n",
       "3  1000_309     1000 2018-12-28       6.0\n",
       "4  1000_380     1000 2018-12-30       5.0"
      ]
     },
     "execution_count": 16,
     "metadata": {},
     "output_type": "execute_result"
    }
   ],
   "source": [
    "# redondeamos la columna 'duration'\n",
    "data_calls['duration']=np.ceil(data_calls['duration'])\n",
    "data_calls.head()"
   ]
  },
  {
   "cell_type": "code",
   "execution_count": 17,
   "metadata": {},
   "outputs": [],
   "source": [
    "# crearemos la columna 'month' para estudiar las llamadas realizadas por mes\n",
    "data_calls['month']=data_calls['call_date'].dt.month"
   ]
  },
  {
   "cell_type": "markdown",
   "metadata": {},
   "source": [
    "[Contenido](#contenido)\n",
    "## Mensajes"
   ]
  },
  {
   "cell_type": "code",
   "execution_count": 18,
   "metadata": {},
   "outputs": [
    {
     "name": "stdout",
     "output_type": "stream",
     "text": [
      "<class 'pandas.core.frame.DataFrame'>\n",
      "RangeIndex: 76051 entries, 0 to 76050\n",
      "Data columns (total 3 columns):\n",
      " #   Column        Non-Null Count  Dtype \n",
      "---  ------        --------------  ----- \n",
      " 0   id            76051 non-null  object\n",
      " 1   user_id       76051 non-null  int64 \n",
      " 2   message_date  76051 non-null  object\n",
      "dtypes: int64(1), object(2)\n",
      "memory usage: 1.7+ MB\n"
     ]
    }
   ],
   "source": [
    "# Imprimir la información general sobre el DataFrame de los mensajes\n",
    "data_messages.info()"
   ]
  },
  {
   "cell_type": "code",
   "execution_count": 19,
   "metadata": {},
   "outputs": [
    {
     "data": {
      "text/html": [
       "<div>\n",
       "<style scoped>\n",
       "    .dataframe tbody tr th:only-of-type {\n",
       "        vertical-align: middle;\n",
       "    }\n",
       "\n",
       "    .dataframe tbody tr th {\n",
       "        vertical-align: top;\n",
       "    }\n",
       "\n",
       "    .dataframe thead th {\n",
       "        text-align: right;\n",
       "    }\n",
       "</style>\n",
       "<table border=\"1\" class=\"dataframe\">\n",
       "  <thead>\n",
       "    <tr style=\"text-align: right;\">\n",
       "      <th></th>\n",
       "      <th>id</th>\n",
       "      <th>user_id</th>\n",
       "      <th>message_date</th>\n",
       "    </tr>\n",
       "  </thead>\n",
       "  <tbody>\n",
       "    <tr>\n",
       "      <th>0</th>\n",
       "      <td>1000_125</td>\n",
       "      <td>1000</td>\n",
       "      <td>2018-12-27</td>\n",
       "    </tr>\n",
       "    <tr>\n",
       "      <th>1</th>\n",
       "      <td>1000_160</td>\n",
       "      <td>1000</td>\n",
       "      <td>2018-12-31</td>\n",
       "    </tr>\n",
       "    <tr>\n",
       "      <th>2</th>\n",
       "      <td>1000_223</td>\n",
       "      <td>1000</td>\n",
       "      <td>2018-12-31</td>\n",
       "    </tr>\n",
       "    <tr>\n",
       "      <th>3</th>\n",
       "      <td>1000_251</td>\n",
       "      <td>1000</td>\n",
       "      <td>2018-12-27</td>\n",
       "    </tr>\n",
       "    <tr>\n",
       "      <th>4</th>\n",
       "      <td>1000_255</td>\n",
       "      <td>1000</td>\n",
       "      <td>2018-12-26</td>\n",
       "    </tr>\n",
       "  </tbody>\n",
       "</table>\n",
       "</div>"
      ],
      "text/plain": [
       "         id  user_id message_date\n",
       "0  1000_125     1000   2018-12-27\n",
       "1  1000_160     1000   2018-12-31\n",
       "2  1000_223     1000   2018-12-31\n",
       "3  1000_251     1000   2018-12-27\n",
       "4  1000_255     1000   2018-12-26"
      ]
     },
     "execution_count": 19,
     "metadata": {},
     "output_type": "execute_result"
    }
   ],
   "source": [
    "# Imprimir una muestra de datos para los mensajes\n",
    "data_messages.head()"
   ]
  },
  {
   "cell_type": "markdown",
   "metadata": {},
   "source": [
    "Notamos que los nombres de las columnas están bien definidos. La columna `'message_date'` debe ser de tipo `'datetime'` y no de tipo `'object'`."
   ]
  },
  {
   "cell_type": "markdown",
   "metadata": {},
   "source": [
    " "
   ]
  },
  {
   "cell_type": "markdown",
   "metadata": {},
   "source": [
    "### Corregir datos"
   ]
  },
  {
   "cell_type": "markdown",
   "metadata": {},
   "source": [
    "Cambiaremos el tipo de datos de la columna `'message_date'` de tipo `'object'` a tipo `'datetime'`."
   ]
  },
  {
   "cell_type": "code",
   "execution_count": 20,
   "metadata": {},
   "outputs": [
    {
     "name": "stdout",
     "output_type": "stream",
     "text": [
      "<class 'pandas.core.frame.DataFrame'>\n",
      "RangeIndex: 76051 entries, 0 to 76050\n",
      "Data columns (total 3 columns):\n",
      " #   Column        Non-Null Count  Dtype         \n",
      "---  ------        --------------  -----         \n",
      " 0   id            76051 non-null  object        \n",
      " 1   user_id       76051 non-null  int64         \n",
      " 2   message_date  76051 non-null  datetime64[ns]\n",
      "dtypes: datetime64[ns](1), int64(1), object(1)\n",
      "memory usage: 1.7+ MB\n"
     ]
    }
   ],
   "source": [
    "# cambiamos el tipo de datos de 'message_date'\n",
    "data_messages['message_date']=pd.to_datetime(data_messages['message_date'],format='%Y-%m-%d')\n",
    "data_messages.info()"
   ]
  },
  {
   "cell_type": "markdown",
   "metadata": {},
   "source": [
    "### Enriquecer datos"
   ]
  },
  {
   "cell_type": "code",
   "execution_count": 21,
   "metadata": {},
   "outputs": [],
   "source": [
    "# crearemos la columna 'month' para estudiar los mensajes enviados por mes\n",
    "data_messages['month']=data_messages['message_date'].dt.month"
   ]
  },
  {
   "cell_type": "markdown",
   "metadata": {},
   "source": [
    "[Contenido](#contenido)\n",
    "## Internet"
   ]
  },
  {
   "cell_type": "code",
   "execution_count": 22,
   "metadata": {},
   "outputs": [
    {
     "name": "stdout",
     "output_type": "stream",
     "text": [
      "<class 'pandas.core.frame.DataFrame'>\n",
      "RangeIndex: 104825 entries, 0 to 104824\n",
      "Data columns (total 4 columns):\n",
      " #   Column        Non-Null Count   Dtype  \n",
      "---  ------        --------------   -----  \n",
      " 0   id            104825 non-null  object \n",
      " 1   user_id       104825 non-null  int64  \n",
      " 2   session_date  104825 non-null  object \n",
      " 3   mb_used       104825 non-null  float64\n",
      "dtypes: float64(1), int64(1), object(2)\n",
      "memory usage: 3.2+ MB\n"
     ]
    }
   ],
   "source": [
    "# Imprimir la información general sobre el DataFrame del internet\n",
    "data_internet.info()"
   ]
  },
  {
   "cell_type": "code",
   "execution_count": 23,
   "metadata": {},
   "outputs": [
    {
     "data": {
      "text/html": [
       "<div>\n",
       "<style scoped>\n",
       "    .dataframe tbody tr th:only-of-type {\n",
       "        vertical-align: middle;\n",
       "    }\n",
       "\n",
       "    .dataframe tbody tr th {\n",
       "        vertical-align: top;\n",
       "    }\n",
       "\n",
       "    .dataframe thead th {\n",
       "        text-align: right;\n",
       "    }\n",
       "</style>\n",
       "<table border=\"1\" class=\"dataframe\">\n",
       "  <thead>\n",
       "    <tr style=\"text-align: right;\">\n",
       "      <th></th>\n",
       "      <th>id</th>\n",
       "      <th>user_id</th>\n",
       "      <th>session_date</th>\n",
       "      <th>mb_used</th>\n",
       "    </tr>\n",
       "  </thead>\n",
       "  <tbody>\n",
       "    <tr>\n",
       "      <th>0</th>\n",
       "      <td>1000_13</td>\n",
       "      <td>1000</td>\n",
       "      <td>2018-12-29</td>\n",
       "      <td>89.86</td>\n",
       "    </tr>\n",
       "    <tr>\n",
       "      <th>1</th>\n",
       "      <td>1000_204</td>\n",
       "      <td>1000</td>\n",
       "      <td>2018-12-31</td>\n",
       "      <td>0.00</td>\n",
       "    </tr>\n",
       "    <tr>\n",
       "      <th>2</th>\n",
       "      <td>1000_379</td>\n",
       "      <td>1000</td>\n",
       "      <td>2018-12-28</td>\n",
       "      <td>660.40</td>\n",
       "    </tr>\n",
       "    <tr>\n",
       "      <th>3</th>\n",
       "      <td>1000_413</td>\n",
       "      <td>1000</td>\n",
       "      <td>2018-12-26</td>\n",
       "      <td>270.99</td>\n",
       "    </tr>\n",
       "    <tr>\n",
       "      <th>4</th>\n",
       "      <td>1000_442</td>\n",
       "      <td>1000</td>\n",
       "      <td>2018-12-27</td>\n",
       "      <td>880.22</td>\n",
       "    </tr>\n",
       "  </tbody>\n",
       "</table>\n",
       "</div>"
      ],
      "text/plain": [
       "         id  user_id session_date  mb_used\n",
       "0   1000_13     1000   2018-12-29    89.86\n",
       "1  1000_204     1000   2018-12-31     0.00\n",
       "2  1000_379     1000   2018-12-28   660.40\n",
       "3  1000_413     1000   2018-12-26   270.99\n",
       "4  1000_442     1000   2018-12-27   880.22"
      ]
     },
     "execution_count": 23,
     "metadata": {},
     "output_type": "execute_result"
    }
   ],
   "source": [
    "# Imprimir una muestra de datos para el tráfico de internet\n",
    "data_internet.head()"
   ]
  },
  {
   "cell_type": "markdown",
   "metadata": {},
   "source": [
    "Notamos que el nombre de las columnas está bien definido. El tipo de datos en la columna `'session_date'` debe ser de tipo `'datetime'` y no de tipo `'object'`."
   ]
  },
  {
   "cell_type": "markdown",
   "metadata": {},
   "source": [
    " "
   ]
  },
  {
   "cell_type": "markdown",
   "metadata": {},
   "source": [
    "### Corregir datos"
   ]
  },
  {
   "cell_type": "code",
   "execution_count": 24,
   "metadata": {},
   "outputs": [
    {
     "name": "stdout",
     "output_type": "stream",
     "text": [
      "<class 'pandas.core.frame.DataFrame'>\n",
      "RangeIndex: 104825 entries, 0 to 104824\n",
      "Data columns (total 4 columns):\n",
      " #   Column        Non-Null Count   Dtype         \n",
      "---  ------        --------------   -----         \n",
      " 0   id            104825 non-null  object        \n",
      " 1   user_id       104825 non-null  int64         \n",
      " 2   session_date  104825 non-null  datetime64[ns]\n",
      " 3   mb_used       104825 non-null  float64       \n",
      "dtypes: datetime64[ns](1), float64(1), int64(1), object(1)\n",
      "memory usage: 3.2+ MB\n"
     ]
    }
   ],
   "source": [
    "# cambiamos el tipo de datos de 'session_date' de 'object' a 'datetime'\n",
    "data_internet['session_date']=pd.to_datetime(data_internet['session_date'],format='%Y-%m-%d')\n",
    "data_internet.info()"
   ]
  },
  {
   "cell_type": "markdown",
   "metadata": {},
   "source": [
    "### Enriquecer datos"
   ]
  },
  {
   "cell_type": "code",
   "execution_count": 25,
   "metadata": {},
   "outputs": [],
   "source": [
    "# crearemos la columna 'month' para estudiar el tráfico de internet por mes\n",
    "data_internet['month']=data_internet['session_date'].dt.month"
   ]
  },
  {
   "cell_type": "markdown",
   "metadata": {},
   "source": [
    "[Contenido](#contenido)\n",
    "## Estudiar las condiciones del plan"
   ]
  },
  {
   "cell_type": "markdown",
   "metadata": {},
   "source": [
    "Es necesario entender cómo funcionan los planes, cómo se cobra a los usuarios con base en su plan de suscripción. Revisaremos la información del plan para ver una vez más sus condiciones."
   ]
  },
  {
   "cell_type": "code",
   "execution_count": 26,
   "metadata": {
    "scrolled": true
   },
   "outputs": [
    {
     "data": {
      "text/html": [
       "<div>\n",
       "<style scoped>\n",
       "    .dataframe tbody tr th:only-of-type {\n",
       "        vertical-align: middle;\n",
       "    }\n",
       "\n",
       "    .dataframe tbody tr th {\n",
       "        vertical-align: top;\n",
       "    }\n",
       "\n",
       "    .dataframe thead th {\n",
       "        text-align: right;\n",
       "    }\n",
       "</style>\n",
       "<table border=\"1\" class=\"dataframe\">\n",
       "  <thead>\n",
       "    <tr style=\"text-align: right;\">\n",
       "      <th></th>\n",
       "      <th>messages_included</th>\n",
       "      <th>mb_per_month_included</th>\n",
       "      <th>minutes_included</th>\n",
       "      <th>usd_monthly_pay</th>\n",
       "      <th>usd_per_gb</th>\n",
       "      <th>usd_per_message</th>\n",
       "      <th>usd_per_minute</th>\n",
       "      <th>plan_name</th>\n",
       "    </tr>\n",
       "  </thead>\n",
       "  <tbody>\n",
       "    <tr>\n",
       "      <th>0</th>\n",
       "      <td>50</td>\n",
       "      <td>15360</td>\n",
       "      <td>500</td>\n",
       "      <td>20</td>\n",
       "      <td>10</td>\n",
       "      <td>0.03</td>\n",
       "      <td>0.03</td>\n",
       "      <td>surf</td>\n",
       "    </tr>\n",
       "    <tr>\n",
       "      <th>1</th>\n",
       "      <td>1000</td>\n",
       "      <td>30720</td>\n",
       "      <td>3000</td>\n",
       "      <td>70</td>\n",
       "      <td>7</td>\n",
       "      <td>0.01</td>\n",
       "      <td>0.01</td>\n",
       "      <td>ultimate</td>\n",
       "    </tr>\n",
       "  </tbody>\n",
       "</table>\n",
       "</div>"
      ],
      "text/plain": [
       "   messages_included  mb_per_month_included  minutes_included  \\\n",
       "0                 50                  15360               500   \n",
       "1               1000                  30720              3000   \n",
       "\n",
       "   usd_monthly_pay  usd_per_gb  usd_per_message  usd_per_minute plan_name  \n",
       "0               20          10             0.03            0.03      surf  \n",
       "1               70           7             0.01            0.01  ultimate  "
      ]
     },
     "execution_count": 26,
     "metadata": {},
     "output_type": "execute_result"
    }
   ],
   "source": [
    "# Imprimimos las condiciones del plan y estudiamos su información\n",
    "data_plans.head()"
   ]
  },
  {
   "cell_type": "markdown",
   "metadata": {},
   "source": [
    "El **plan Surf** tiene un costo mensual de $20 que incluye:  \n",
    "* 500 minutos al mes, 50 SMS y 15 GB de datos.\n",
    "\n",
    "Si se exceden los límites del paquete se debe pagar:  \n",
    "* 1 minuto: 3 centavos\n",
    "* 1 SMS: 3 centavos\n",
    "* 1 GB de datos: $10\n",
    "---\n",
    "\n",
    "El **plan Ultimate** tiene un costo mensual de $70 que incluye:\n",
    "*   3000 minutos al mes, 1000 SMS y 30 GB de datos.\n",
    "\n",
    "Si se exceden los límites del paquete se debe pagar:\n",
    "* 1 minuto: 1 centavo\n",
    "* 1 SMS: 1 centavo\n",
    "* 1 GB de datos: $7"
   ]
  },
  {
   "cell_type": "markdown",
   "metadata": {},
   "source": [
    "[Contenido](#contenido)\n",
    "## Agregar datos por usuario\n",
    "\n",
    "Ya que al parecer los datos no presentan problemas, procederemos a unir información de las distintas tablas y crear algunas agrupaciones en base a los usuarios."
   ]
  },
  {
   "cell_type": "code",
   "execution_count": 27,
   "metadata": {
    "scrolled": true
   },
   "outputs": [
    {
     "data": {
      "text/html": [
       "<div>\n",
       "<style scoped>\n",
       "    .dataframe tbody tr th:only-of-type {\n",
       "        vertical-align: middle;\n",
       "    }\n",
       "\n",
       "    .dataframe tbody tr th {\n",
       "        vertical-align: top;\n",
       "    }\n",
       "\n",
       "    .dataframe thead th {\n",
       "        text-align: right;\n",
       "    }\n",
       "</style>\n",
       "<table border=\"1\" class=\"dataframe\">\n",
       "  <thead>\n",
       "    <tr style=\"text-align: right;\">\n",
       "      <th></th>\n",
       "      <th></th>\n",
       "      <th>calls_minutes</th>\n",
       "      <th>calls_count</th>\n",
       "    </tr>\n",
       "    <tr>\n",
       "      <th>user_id</th>\n",
       "      <th>month</th>\n",
       "      <th></th>\n",
       "      <th></th>\n",
       "    </tr>\n",
       "  </thead>\n",
       "  <tbody>\n",
       "    <tr>\n",
       "      <th>1000</th>\n",
       "      <th>12</th>\n",
       "      <td>124.0</td>\n",
       "      <td>16</td>\n",
       "    </tr>\n",
       "    <tr>\n",
       "      <th rowspan=\"4\" valign=\"top\">1001</th>\n",
       "      <th>8</th>\n",
       "      <td>182.0</td>\n",
       "      <td>27</td>\n",
       "    </tr>\n",
       "    <tr>\n",
       "      <th>9</th>\n",
       "      <td>315.0</td>\n",
       "      <td>49</td>\n",
       "    </tr>\n",
       "    <tr>\n",
       "      <th>10</th>\n",
       "      <td>393.0</td>\n",
       "      <td>65</td>\n",
       "    </tr>\n",
       "    <tr>\n",
       "      <th>11</th>\n",
       "      <td>426.0</td>\n",
       "      <td>64</td>\n",
       "    </tr>\n",
       "  </tbody>\n",
       "</table>\n",
       "</div>"
      ],
      "text/plain": [
       "               calls_minutes  calls_count\n",
       "user_id month                            \n",
       "1000    12             124.0           16\n",
       "1001    8              182.0           27\n",
       "        9              315.0           49\n",
       "        10             393.0           65\n",
       "        11             426.0           64"
      ]
     },
     "execution_count": 27,
     "metadata": {},
     "output_type": "execute_result"
    }
   ],
   "source": [
    "# Calculamos el número de llamadas hechas por cada usuario por mes\n",
    "group_users_calls=data_calls.pivot_table(index=['user_id','month'],values='duration',aggfunc=['sum','count'])\n",
    "group_users_calls.columns=['calls_minutes','calls_count']\n",
    "group_users_calls.head()"
   ]
  },
  {
   "cell_type": "code",
   "execution_count": 28,
   "metadata": {},
   "outputs": [
    {
     "data": {
      "text/html": [
       "<div>\n",
       "<style scoped>\n",
       "    .dataframe tbody tr th:only-of-type {\n",
       "        vertical-align: middle;\n",
       "    }\n",
       "\n",
       "    .dataframe tbody tr th {\n",
       "        vertical-align: top;\n",
       "    }\n",
       "\n",
       "    .dataframe thead th {\n",
       "        text-align: right;\n",
       "    }\n",
       "</style>\n",
       "<table border=\"1\" class=\"dataframe\">\n",
       "  <thead>\n",
       "    <tr style=\"text-align: right;\">\n",
       "      <th></th>\n",
       "      <th></th>\n",
       "      <th>messages_count</th>\n",
       "    </tr>\n",
       "    <tr>\n",
       "      <th>user_id</th>\n",
       "      <th>month</th>\n",
       "      <th></th>\n",
       "    </tr>\n",
       "  </thead>\n",
       "  <tbody>\n",
       "    <tr>\n",
       "      <th>1000</th>\n",
       "      <th>12</th>\n",
       "      <td>11</td>\n",
       "    </tr>\n",
       "    <tr>\n",
       "      <th rowspan=\"4\" valign=\"top\">1001</th>\n",
       "      <th>8</th>\n",
       "      <td>30</td>\n",
       "    </tr>\n",
       "    <tr>\n",
       "      <th>9</th>\n",
       "      <td>44</td>\n",
       "    </tr>\n",
       "    <tr>\n",
       "      <th>10</th>\n",
       "      <td>53</td>\n",
       "    </tr>\n",
       "    <tr>\n",
       "      <th>11</th>\n",
       "      <td>36</td>\n",
       "    </tr>\n",
       "  </tbody>\n",
       "</table>\n",
       "</div>"
      ],
      "text/plain": [
       "               messages_count\n",
       "user_id month                \n",
       "1000    12                 11\n",
       "1001    8                  30\n",
       "        9                  44\n",
       "        10                 53\n",
       "        11                 36"
      ]
     },
     "execution_count": 28,
     "metadata": {},
     "output_type": "execute_result"
    }
   ],
   "source": [
    "# Calculamos el número de mensajes enviados por cada usuario por mes\n",
    "group_users_messages=data_messages.pivot_table(index=['user_id','month'],values='id',aggfunc='count')\n",
    "group_users_messages.columns=['messages_count']\n",
    "group_users_messages.head()"
   ]
  },
  {
   "cell_type": "code",
   "execution_count": 29,
   "metadata": {},
   "outputs": [
    {
     "data": {
      "text/html": [
       "<div>\n",
       "<style scoped>\n",
       "    .dataframe tbody tr th:only-of-type {\n",
       "        vertical-align: middle;\n",
       "    }\n",
       "\n",
       "    .dataframe tbody tr th {\n",
       "        vertical-align: top;\n",
       "    }\n",
       "\n",
       "    .dataframe thead th {\n",
       "        text-align: right;\n",
       "    }\n",
       "</style>\n",
       "<table border=\"1\" class=\"dataframe\">\n",
       "  <thead>\n",
       "    <tr style=\"text-align: right;\">\n",
       "      <th></th>\n",
       "      <th></th>\n",
       "      <th>internet_mb_used</th>\n",
       "    </tr>\n",
       "    <tr>\n",
       "      <th>user_id</th>\n",
       "      <th>month</th>\n",
       "      <th></th>\n",
       "    </tr>\n",
       "  </thead>\n",
       "  <tbody>\n",
       "    <tr>\n",
       "      <th>1000</th>\n",
       "      <th>12</th>\n",
       "      <td>1901.47</td>\n",
       "    </tr>\n",
       "    <tr>\n",
       "      <th rowspan=\"4\" valign=\"top\">1001</th>\n",
       "      <th>8</th>\n",
       "      <td>6919.15</td>\n",
       "    </tr>\n",
       "    <tr>\n",
       "      <th>9</th>\n",
       "      <td>13314.82</td>\n",
       "    </tr>\n",
       "    <tr>\n",
       "      <th>10</th>\n",
       "      <td>22330.49</td>\n",
       "    </tr>\n",
       "    <tr>\n",
       "      <th>11</th>\n",
       "      <td>18504.30</td>\n",
       "    </tr>\n",
       "  </tbody>\n",
       "</table>\n",
       "</div>"
      ],
      "text/plain": [
       "               internet_mb_used\n",
       "user_id month                  \n",
       "1000    12              1901.47\n",
       "1001    8               6919.15\n",
       "        9              13314.82\n",
       "        10             22330.49\n",
       "        11             18504.30"
      ]
     },
     "execution_count": 29,
     "metadata": {},
     "output_type": "execute_result"
    }
   ],
   "source": [
    "# Calculamos el volumen del trafico de internet usado por cada usuario por mes\n",
    "group_users_internet=data_internet.pivot_table(index=['user_id','month'],values='mb_used',aggfunc='sum')\n",
    "group_users_internet.columns=['internet_mb_used']\n",
    "group_users_internet.head()"
   ]
  },
  {
   "cell_type": "markdown",
   "metadata": {},
   "source": [
    "**En el caso del consumo de megabytes en internet, el consumo total del mes se redondea hacia arriba,** de tal manera que si un usuario consume al mes 1025 megabytes, se le cobrarán 2 gigabytes."
   ]
  },
  {
   "cell_type": "markdown",
   "metadata": {},
   "source": [
    "Vamos entonces a proceder a dividir la columna `'internet_mb_used'` entre `1024` para expresar el consumo mensual en gigabytes y posteriormente redondear hacia arriba."
   ]
  },
  {
   "cell_type": "code",
   "execution_count": 30,
   "metadata": {},
   "outputs": [
    {
     "data": {
      "text/html": [
       "<div>\n",
       "<style scoped>\n",
       "    .dataframe tbody tr th:only-of-type {\n",
       "        vertical-align: middle;\n",
       "    }\n",
       "\n",
       "    .dataframe tbody tr th {\n",
       "        vertical-align: top;\n",
       "    }\n",
       "\n",
       "    .dataframe thead th {\n",
       "        text-align: right;\n",
       "    }\n",
       "</style>\n",
       "<table border=\"1\" class=\"dataframe\">\n",
       "  <thead>\n",
       "    <tr style=\"text-align: right;\">\n",
       "      <th></th>\n",
       "      <th></th>\n",
       "      <th>internet_gb_used</th>\n",
       "    </tr>\n",
       "    <tr>\n",
       "      <th>user_id</th>\n",
       "      <th>month</th>\n",
       "      <th></th>\n",
       "    </tr>\n",
       "  </thead>\n",
       "  <tbody>\n",
       "    <tr>\n",
       "      <th>1000</th>\n",
       "      <th>12</th>\n",
       "      <td>2.0</td>\n",
       "    </tr>\n",
       "    <tr>\n",
       "      <th rowspan=\"4\" valign=\"top\">1001</th>\n",
       "      <th>8</th>\n",
       "      <td>7.0</td>\n",
       "    </tr>\n",
       "    <tr>\n",
       "      <th>9</th>\n",
       "      <td>14.0</td>\n",
       "    </tr>\n",
       "    <tr>\n",
       "      <th>10</th>\n",
       "      <td>22.0</td>\n",
       "    </tr>\n",
       "    <tr>\n",
       "      <th>11</th>\n",
       "      <td>19.0</td>\n",
       "    </tr>\n",
       "  </tbody>\n",
       "</table>\n",
       "</div>"
      ],
      "text/plain": [
       "               internet_gb_used\n",
       "user_id month                  \n",
       "1000    12                  2.0\n",
       "1001    8                   7.0\n",
       "        9                  14.0\n",
       "        10                 22.0\n",
       "        11                 19.0"
      ]
     },
     "execution_count": 30,
     "metadata": {},
     "output_type": "execute_result"
    }
   ],
   "source": [
    "# cambiamos las unidades  de 'internet_mb_used' de megabytes a gigabytes y redondeamos\n",
    "group_users_internet['internet_gb_used']=np.ceil(group_users_internet['internet_mb_used']/1024)\n",
    "group_users_internet.drop('internet_mb_used',axis=1,inplace=True)\n",
    "group_users_internet.head()"
   ]
  },
  {
   "cell_type": "markdown",
   "metadata": {},
   "source": [
    "Agregaremos los datos de consumo juntos en un DataFrame para que un registro en él represente lo que un único usuario consumió en un mes determinado."
   ]
  },
  {
   "cell_type": "code",
   "execution_count": 31,
   "metadata": {},
   "outputs": [
    {
     "data": {
      "text/plain": [
       "(2293, 6)"
      ]
     },
     "execution_count": 31,
     "metadata": {},
     "output_type": "execute_result"
    }
   ],
   "source": [
    "# Combinamos los datos para las llamadas, minutos, mensajes e internet con base en el user_id y el mes\n",
    "data_consumo=pd.DataFrame(group_users_calls)\n",
    "data_consumo=group_users_calls.merge(group_users_messages,on=['user_id','month'],how='outer')\\\n",
    "            .merge(group_users_internet,on=['user_id','month'],how='outer')\n",
    "data_consumo.reset_index(inplace=True)\n",
    "data_consumo.shape"
   ]
  },
  {
   "cell_type": "code",
   "execution_count": 32,
   "metadata": {},
   "outputs": [
    {
     "data": {
      "text/plain": [
       "user_id               0\n",
       "month                 0\n",
       "calls_minutes        35\n",
       "calls_count          35\n",
       "messages_count      487\n",
       "internet_gb_used     16\n",
       "dtype: int64"
      ]
     },
     "execution_count": 32,
     "metadata": {},
     "output_type": "execute_result"
    }
   ],
   "source": [
    "# revisamos el dataframe creado en busca de problemas\n",
    "data_consumo.isna().sum()"
   ]
  },
  {
   "cell_type": "markdown",
   "metadata": {},
   "source": [
    "Notamos que tenemos 35 valores nulos en las columnas `'calls_minutes'` y `'calls_count'`, 487 en la columna `'messages_count'` y 16 en la columna `'internet_gb_used'`, lo que puede deberse a que para ese mes no hay datos de consumo para el usuario. En este caso, cuando no hay datos de consumo en la tabla significa que su consumo es cero.  \n",
    "Vamos entonces a proceder reemplazando esos valores nulos por cero."
   ]
  },
  {
   "cell_type": "code",
   "execution_count": 33,
   "metadata": {},
   "outputs": [
    {
     "data": {
      "text/plain": [
       "user_id             0\n",
       "month               0\n",
       "calls_minutes       0\n",
       "calls_count         0\n",
       "messages_count      0\n",
       "internet_gb_used    0\n",
       "dtype: int64"
      ]
     },
     "execution_count": 33,
     "metadata": {},
     "output_type": "execute_result"
    }
   ],
   "source": [
    "# reemplazamos los valores 'NaN' por cero\n",
    "data_consumo.fillna(0,inplace=True)\n",
    "data_consumo.isna().sum()"
   ]
  },
  {
   "cell_type": "markdown",
   "metadata": {},
   "source": [
    "Tenemos ya un dataframe con los consumos que realizó cada usuario, ahora vamos a agregar la información relativa al plan que tiene contratado cada usuario."
   ]
  },
  {
   "cell_type": "code",
   "execution_count": 34,
   "metadata": {},
   "outputs": [
    {
     "data": {
      "text/html": [
       "<div>\n",
       "<style scoped>\n",
       "    .dataframe tbody tr th:only-of-type {\n",
       "        vertical-align: middle;\n",
       "    }\n",
       "\n",
       "    .dataframe tbody tr th {\n",
       "        vertical-align: top;\n",
       "    }\n",
       "\n",
       "    .dataframe thead th {\n",
       "        text-align: right;\n",
       "    }\n",
       "</style>\n",
       "<table border=\"1\" class=\"dataframe\">\n",
       "  <thead>\n",
       "    <tr style=\"text-align: right;\">\n",
       "      <th></th>\n",
       "      <th>user_id</th>\n",
       "      <th>first_name</th>\n",
       "      <th>last_name</th>\n",
       "      <th>age</th>\n",
       "      <th>city</th>\n",
       "      <th>reg_date</th>\n",
       "      <th>plan_name</th>\n",
       "      <th>churn_date</th>\n",
       "      <th>month_activation</th>\n",
       "      <th>messages_included</th>\n",
       "      <th>mb_per_month_included</th>\n",
       "      <th>minutes_included</th>\n",
       "      <th>usd_monthly_pay</th>\n",
       "      <th>usd_per_gb</th>\n",
       "      <th>usd_per_message</th>\n",
       "      <th>usd_per_minute</th>\n",
       "    </tr>\n",
       "  </thead>\n",
       "  <tbody>\n",
       "    <tr>\n",
       "      <th>0</th>\n",
       "      <td>1000</td>\n",
       "      <td>Anamaria</td>\n",
       "      <td>Bauer</td>\n",
       "      <td>45</td>\n",
       "      <td>Atlanta-Sandy Springs-Roswell, GA MSA</td>\n",
       "      <td>2018-12-24</td>\n",
       "      <td>ultimate</td>\n",
       "      <td>NaT</td>\n",
       "      <td>12</td>\n",
       "      <td>1000</td>\n",
       "      <td>30720</td>\n",
       "      <td>3000</td>\n",
       "      <td>70</td>\n",
       "      <td>7</td>\n",
       "      <td>0.01</td>\n",
       "      <td>0.01</td>\n",
       "    </tr>\n",
       "  </tbody>\n",
       "</table>\n",
       "</div>"
      ],
      "text/plain": [
       "   user_id first_name last_name  age                                   city  \\\n",
       "0     1000   Anamaria     Bauer   45  Atlanta-Sandy Springs-Roswell, GA MSA   \n",
       "\n",
       "    reg_date plan_name churn_date  month_activation  messages_included  \\\n",
       "0 2018-12-24  ultimate        NaT                12               1000   \n",
       "\n",
       "   mb_per_month_included  minutes_included  usd_monthly_pay  usd_per_gb  \\\n",
       "0                  30720              3000               70           7   \n",
       "\n",
       "   usd_per_message  usd_per_minute  \n",
       "0             0.01            0.01  "
      ]
     },
     "execution_count": 34,
     "metadata": {},
     "output_type": "execute_result"
    }
   ],
   "source": [
    "# renombramos la columna 'plan' en 'data_users' para hacer un merge con 'data_plans'\n",
    "data_users.rename({'plan':'plan_name'},axis=1,inplace=True)\n",
    "\n",
    "# creamos un dataframe con los datos de usuario y los detalles de su plan contratado\n",
    "data_users_plans=data_users.merge(data_plans,on='plan_name',how='left')\n",
    "data_users_plans.head(1)"
   ]
  },
  {
   "cell_type": "code",
   "execution_count": 35,
   "metadata": {},
   "outputs": [
    {
     "name": "stdout",
     "output_type": "stream",
     "text": [
      "El tamaño del dataframe es: (2293, 21)\n"
     ]
    },
    {
     "data": {
      "text/html": [
       "<div>\n",
       "<style scoped>\n",
       "    .dataframe tbody tr th:only-of-type {\n",
       "        vertical-align: middle;\n",
       "    }\n",
       "\n",
       "    .dataframe tbody tr th {\n",
       "        vertical-align: top;\n",
       "    }\n",
       "\n",
       "    .dataframe thead th {\n",
       "        text-align: right;\n",
       "    }\n",
       "</style>\n",
       "<table border=\"1\" class=\"dataframe\">\n",
       "  <thead>\n",
       "    <tr style=\"text-align: right;\">\n",
       "      <th></th>\n",
       "      <th>user_id</th>\n",
       "      <th>month</th>\n",
       "      <th>calls_minutes</th>\n",
       "      <th>calls_count</th>\n",
       "      <th>messages_count</th>\n",
       "      <th>internet_gb_used</th>\n",
       "      <th>first_name</th>\n",
       "      <th>last_name</th>\n",
       "      <th>age</th>\n",
       "      <th>city</th>\n",
       "      <th>...</th>\n",
       "      <th>plan_name</th>\n",
       "      <th>churn_date</th>\n",
       "      <th>month_activation</th>\n",
       "      <th>messages_included</th>\n",
       "      <th>mb_per_month_included</th>\n",
       "      <th>minutes_included</th>\n",
       "      <th>usd_monthly_pay</th>\n",
       "      <th>usd_per_gb</th>\n",
       "      <th>usd_per_message</th>\n",
       "      <th>usd_per_minute</th>\n",
       "    </tr>\n",
       "  </thead>\n",
       "  <tbody>\n",
       "    <tr>\n",
       "      <th>0</th>\n",
       "      <td>1000</td>\n",
       "      <td>12</td>\n",
       "      <td>124.0</td>\n",
       "      <td>16.0</td>\n",
       "      <td>11.0</td>\n",
       "      <td>2.0</td>\n",
       "      <td>Anamaria</td>\n",
       "      <td>Bauer</td>\n",
       "      <td>45</td>\n",
       "      <td>Atlanta-Sandy Springs-Roswell, GA MSA</td>\n",
       "      <td>...</td>\n",
       "      <td>ultimate</td>\n",
       "      <td>NaT</td>\n",
       "      <td>12</td>\n",
       "      <td>1000</td>\n",
       "      <td>30720</td>\n",
       "      <td>3000</td>\n",
       "      <td>70</td>\n",
       "      <td>7</td>\n",
       "      <td>0.01</td>\n",
       "      <td>0.01</td>\n",
       "    </tr>\n",
       "  </tbody>\n",
       "</table>\n",
       "<p>1 rows × 21 columns</p>\n",
       "</div>"
      ],
      "text/plain": [
       "   user_id  month  calls_minutes  calls_count  messages_count  \\\n",
       "0     1000     12          124.0         16.0            11.0   \n",
       "\n",
       "   internet_gb_used first_name last_name  age  \\\n",
       "0               2.0   Anamaria     Bauer   45   \n",
       "\n",
       "                                    city  ... plan_name churn_date  \\\n",
       "0  Atlanta-Sandy Springs-Roswell, GA MSA  ...  ultimate        NaT   \n",
       "\n",
       "  month_activation  messages_included  mb_per_month_included  \\\n",
       "0               12               1000                  30720   \n",
       "\n",
       "   minutes_included  usd_monthly_pay  usd_per_gb  usd_per_message  \\\n",
       "0              3000               70           7             0.01   \n",
       "\n",
       "   usd_per_minute  \n",
       "0            0.01  \n",
       "\n",
       "[1 rows x 21 columns]"
      ]
     },
     "execution_count": 35,
     "metadata": {},
     "output_type": "execute_result"
    }
   ],
   "source": [
    "# Añadimos la información del plan para cada usuario a su consumo mensual\n",
    "data_consumo_historic=data_consumo.merge(data_users_plans,on='user_id',how='left')\n",
    "print(f'El tamaño del dataframe es: {data_consumo_historic.shape}')\n",
    "data_consumo_historic.head(1)"
   ]
  },
  {
   "cell_type": "markdown",
   "metadata": {},
   "source": [
    "El dataframe `'data_consumo_historic'` contiene el consumo histórico mensual para cada usuario así como la información relativa al plan contratado."
   ]
  },
  {
   "cell_type": "markdown",
   "metadata": {},
   "source": [
    "**Vamos ahora a agregar los cargos extra mensuales cuando un usuario rebasa los límites de su plan contratado. Para ello crearemos varias funciones.**"
   ]
  },
  {
   "cell_type": "code",
   "execution_count": 36,
   "metadata": {},
   "outputs": [],
   "source": [
    "\"\"\"creamos una función para agregar los cargos extra por minutos por rebasar los límites de su plan de un usuario\"\"\"\n",
    "def cargos_extra_minutes(row):\n",
    "    \"\"\"Esta función agrega los cargos extra en caso de que un usuario rebase los límites de su plan contratado\n",
    "    minutos=cantidad de minutos mensual para llamadas sin costo en su plan\n",
    "    \"\"\"\n",
    "    \n",
    "    minutos=row['minutes_included']\n",
    "    \n",
    "    # para cada tipo de plan contratado agregamos los cargos en caso de sobrepasar los limites de su plan\n",
    "    if row['calls_minutes']<=minutos:\n",
    "        return 0\n",
    "    elif row['calls_minutes']>minutos:\n",
    "        return (row['calls_minutes']-minutos)*row['usd_per_minute']\n",
    "    else:\n",
    "        # si la columna row['calls_minutes'] es NaN el cargo será NaN\n",
    "        float('nan')"
   ]
  },
  {
   "cell_type": "code",
   "execution_count": 37,
   "metadata": {},
   "outputs": [],
   "source": [
    "# creamos la columna 'cargo_minutes' para almacenar el cobro extra por rebasar los limites en minutos del plan\n",
    "data_consumo_historic['cargo_minutes']=data_consumo_historic.apply(cargos_extra_minutes,axis=1)"
   ]
  },
  {
   "cell_type": "code",
   "execution_count": 38,
   "metadata": {},
   "outputs": [
    {
     "data": {
      "text/html": [
       "<div>\n",
       "<style scoped>\n",
       "    .dataframe tbody tr th:only-of-type {\n",
       "        vertical-align: middle;\n",
       "    }\n",
       "\n",
       "    .dataframe tbody tr th {\n",
       "        vertical-align: top;\n",
       "    }\n",
       "\n",
       "    .dataframe thead th {\n",
       "        text-align: right;\n",
       "    }\n",
       "</style>\n",
       "<table border=\"1\" class=\"dataframe\">\n",
       "  <thead>\n",
       "    <tr style=\"text-align: right;\">\n",
       "      <th></th>\n",
       "      <th>user_id</th>\n",
       "      <th>month</th>\n",
       "      <th>calls_minutes</th>\n",
       "      <th>calls_count</th>\n",
       "      <th>messages_count</th>\n",
       "      <th>internet_gb_used</th>\n",
       "      <th>first_name</th>\n",
       "      <th>last_name</th>\n",
       "      <th>age</th>\n",
       "      <th>city</th>\n",
       "      <th>...</th>\n",
       "      <th>churn_date</th>\n",
       "      <th>month_activation</th>\n",
       "      <th>messages_included</th>\n",
       "      <th>mb_per_month_included</th>\n",
       "      <th>minutes_included</th>\n",
       "      <th>usd_monthly_pay</th>\n",
       "      <th>usd_per_gb</th>\n",
       "      <th>usd_per_message</th>\n",
       "      <th>usd_per_minute</th>\n",
       "      <th>cargo_minutes</th>\n",
       "    </tr>\n",
       "  </thead>\n",
       "  <tbody>\n",
       "    <tr>\n",
       "      <th>9</th>\n",
       "      <td>1003</td>\n",
       "      <td>12</td>\n",
       "      <td>1104.0</td>\n",
       "      <td>149.0</td>\n",
       "      <td>50.0</td>\n",
       "      <td>27.0</td>\n",
       "      <td>Reynaldo</td>\n",
       "      <td>Jenkins</td>\n",
       "      <td>52</td>\n",
       "      <td>Tulsa, OK MSA</td>\n",
       "      <td>...</td>\n",
       "      <td>NaT</td>\n",
       "      <td>1</td>\n",
       "      <td>50</td>\n",
       "      <td>15360</td>\n",
       "      <td>500</td>\n",
       "      <td>20</td>\n",
       "      <td>10</td>\n",
       "      <td>0.03</td>\n",
       "      <td>0.03</td>\n",
       "      <td>18.12</td>\n",
       "    </tr>\n",
       "    <tr>\n",
       "      <th>23</th>\n",
       "      <td>1007</td>\n",
       "      <td>10</td>\n",
       "      <td>645.0</td>\n",
       "      <td>80.0</td>\n",
       "      <td>59.0</td>\n",
       "      <td>37.0</td>\n",
       "      <td>Eusebio</td>\n",
       "      <td>Welch</td>\n",
       "      <td>42</td>\n",
       "      <td>Grand Rapids-Kentwood, MI MSA</td>\n",
       "      <td>...</td>\n",
       "      <td>NaT</td>\n",
       "      <td>7</td>\n",
       "      <td>50</td>\n",
       "      <td>15360</td>\n",
       "      <td>500</td>\n",
       "      <td>20</td>\n",
       "      <td>10</td>\n",
       "      <td>0.03</td>\n",
       "      <td>0.03</td>\n",
       "      <td>4.35</td>\n",
       "    </tr>\n",
       "  </tbody>\n",
       "</table>\n",
       "<p>2 rows × 22 columns</p>\n",
       "</div>"
      ],
      "text/plain": [
       "    user_id  month  calls_minutes  calls_count  messages_count  \\\n",
       "9      1003     12         1104.0        149.0            50.0   \n",
       "23     1007     10          645.0         80.0            59.0   \n",
       "\n",
       "    internet_gb_used first_name last_name  age                           city  \\\n",
       "9               27.0   Reynaldo   Jenkins   52                  Tulsa, OK MSA   \n",
       "23              37.0    Eusebio     Welch   42  Grand Rapids-Kentwood, MI MSA   \n",
       "\n",
       "    ... churn_date month_activation messages_included  mb_per_month_included  \\\n",
       "9   ...        NaT                1                50                  15360   \n",
       "23  ...        NaT                7                50                  15360   \n",
       "\n",
       "    minutes_included  usd_monthly_pay  usd_per_gb  usd_per_message  \\\n",
       "9                500               20          10             0.03   \n",
       "23               500               20          10             0.03   \n",
       "\n",
       "    usd_per_minute  cargo_minutes  \n",
       "9             0.03          18.12  \n",
       "23            0.03           4.35  \n",
       "\n",
       "[2 rows x 22 columns]"
      ]
     },
     "execution_count": 38,
     "metadata": {},
     "output_type": "execute_result"
    }
   ],
   "source": [
    "# verificamos que se haga correctamente\n",
    "data_consumo_historic[data_consumo_historic['cargo_minutes']>0].head(2)"
   ]
  },
  {
   "cell_type": "code",
   "execution_count": 39,
   "metadata": {},
   "outputs": [],
   "source": [
    "\"\"\"creamos una función para agregar los cargos extra por mensajes por rebasar los límites de su plan de un usuario\"\"\"\n",
    "def cargos_extra_messages(row):\n",
    "    \"\"\"Esta función agrega los cargos extra en caso de que un usuario rebase los límites de su plan contratado\n",
    "    mensajes=cantidad de mensajes mensual sin costo en su plan\n",
    "    \"\"\"\n",
    "    \n",
    "    mensajes=row['messages_included']\n",
    "    \n",
    "    # para cada tipo de plan contratado agregamos los cargos en caso de sobrepasar los limites de su plan\n",
    "    if row['messages_count']<=mensajes:\n",
    "        return 0\n",
    "    elif row['messages_count']>mensajes:\n",
    "        return (row['messages_count']-mensajes)*row['usd_per_message']\n",
    "    else:\n",
    "        # si la columna row['messages_count'] es NaN el cargo será NaN\n",
    "        float('nan')"
   ]
  },
  {
   "cell_type": "code",
   "execution_count": 40,
   "metadata": {},
   "outputs": [],
   "source": [
    "# creamos la columna 'cargo_messages' para almacenar el cobro extra por rebasar los limites en mensajes del plan\n",
    "data_consumo_historic['cargo_messages']=data_consumo_historic.apply(cargos_extra_messages,axis=1)"
   ]
  },
  {
   "cell_type": "code",
   "execution_count": 41,
   "metadata": {},
   "outputs": [
    {
     "data": {
      "text/html": [
       "<div>\n",
       "<style scoped>\n",
       "    .dataframe tbody tr th:only-of-type {\n",
       "        vertical-align: middle;\n",
       "    }\n",
       "\n",
       "    .dataframe tbody tr th {\n",
       "        vertical-align: top;\n",
       "    }\n",
       "\n",
       "    .dataframe thead th {\n",
       "        text-align: right;\n",
       "    }\n",
       "</style>\n",
       "<table border=\"1\" class=\"dataframe\">\n",
       "  <thead>\n",
       "    <tr style=\"text-align: right;\">\n",
       "      <th></th>\n",
       "      <th>user_id</th>\n",
       "      <th>month</th>\n",
       "      <th>calls_minutes</th>\n",
       "      <th>calls_count</th>\n",
       "      <th>messages_count</th>\n",
       "      <th>internet_gb_used</th>\n",
       "      <th>first_name</th>\n",
       "      <th>last_name</th>\n",
       "      <th>age</th>\n",
       "      <th>city</th>\n",
       "      <th>...</th>\n",
       "      <th>month_activation</th>\n",
       "      <th>messages_included</th>\n",
       "      <th>mb_per_month_included</th>\n",
       "      <th>minutes_included</th>\n",
       "      <th>usd_monthly_pay</th>\n",
       "      <th>usd_per_gb</th>\n",
       "      <th>usd_per_message</th>\n",
       "      <th>usd_per_minute</th>\n",
       "      <th>cargo_minutes</th>\n",
       "      <th>cargo_messages</th>\n",
       "    </tr>\n",
       "  </thead>\n",
       "  <tbody>\n",
       "    <tr>\n",
       "      <th>3</th>\n",
       "      <td>1001</td>\n",
       "      <td>10</td>\n",
       "      <td>393.0</td>\n",
       "      <td>65.0</td>\n",
       "      <td>53.0</td>\n",
       "      <td>22.0</td>\n",
       "      <td>Mickey</td>\n",
       "      <td>Wilkerson</td>\n",
       "      <td>28</td>\n",
       "      <td>Seattle-Tacoma-Bellevue, WA MSA</td>\n",
       "      <td>...</td>\n",
       "      <td>8</td>\n",
       "      <td>50</td>\n",
       "      <td>15360</td>\n",
       "      <td>500</td>\n",
       "      <td>20</td>\n",
       "      <td>10</td>\n",
       "      <td>0.03</td>\n",
       "      <td>0.03</td>\n",
       "      <td>0.0</td>\n",
       "      <td>0.09</td>\n",
       "    </tr>\n",
       "    <tr>\n",
       "      <th>21</th>\n",
       "      <td>1007</td>\n",
       "      <td>8</td>\n",
       "      <td>456.0</td>\n",
       "      <td>70.0</td>\n",
       "      <td>51.0</td>\n",
       "      <td>24.0</td>\n",
       "      <td>Eusebio</td>\n",
       "      <td>Welch</td>\n",
       "      <td>42</td>\n",
       "      <td>Grand Rapids-Kentwood, MI MSA</td>\n",
       "      <td>...</td>\n",
       "      <td>7</td>\n",
       "      <td>50</td>\n",
       "      <td>15360</td>\n",
       "      <td>500</td>\n",
       "      <td>20</td>\n",
       "      <td>10</td>\n",
       "      <td>0.03</td>\n",
       "      <td>0.03</td>\n",
       "      <td>0.0</td>\n",
       "      <td>0.03</td>\n",
       "    </tr>\n",
       "  </tbody>\n",
       "</table>\n",
       "<p>2 rows × 23 columns</p>\n",
       "</div>"
      ],
      "text/plain": [
       "    user_id  month  calls_minutes  calls_count  messages_count  \\\n",
       "3      1001     10          393.0         65.0            53.0   \n",
       "21     1007      8          456.0         70.0            51.0   \n",
       "\n",
       "    internet_gb_used first_name  last_name  age  \\\n",
       "3               22.0     Mickey  Wilkerson   28   \n",
       "21              24.0    Eusebio      Welch   42   \n",
       "\n",
       "                               city  ... month_activation messages_included  \\\n",
       "3   Seattle-Tacoma-Bellevue, WA MSA  ...                8                50   \n",
       "21    Grand Rapids-Kentwood, MI MSA  ...                7                50   \n",
       "\n",
       "   mb_per_month_included  minutes_included  usd_monthly_pay  usd_per_gb  \\\n",
       "3                  15360               500               20          10   \n",
       "21                 15360               500               20          10   \n",
       "\n",
       "    usd_per_message  usd_per_minute  cargo_minutes  cargo_messages  \n",
       "3              0.03            0.03            0.0            0.09  \n",
       "21             0.03            0.03            0.0            0.03  \n",
       "\n",
       "[2 rows x 23 columns]"
      ]
     },
     "execution_count": 41,
     "metadata": {},
     "output_type": "execute_result"
    }
   ],
   "source": [
    "# verificamos que se haga correctamente\n",
    "data_consumo_historic[data_consumo_historic['cargo_messages']>0].head(2)"
   ]
  },
  {
   "cell_type": "code",
   "execution_count": 42,
   "metadata": {},
   "outputs": [],
   "source": [
    "\"\"\"creamos una función para agregar los cargos extra por megabytes por rebasar los límites de su plan de un usuario\"\"\"\n",
    "def cargos_extra_megas(row):\n",
    "    \"\"\"Esta función agrega los cargos extra en caso de que un usuario rebase los límites de su plan contratado\n",
    "    internet= gigabytes de internet mensual sin costo en su plan\n",
    "    \"\"\"\n",
    "    \n",
    "    internet=row['mb_per_month_included']/1024\n",
    "    \n",
    "    # para cada tipo de plan contratado agregamos los cargos en caso de sobrepasar los limites de su plan\n",
    "    if row['internet_gb_used']<=internet:\n",
    "        return 0\n",
    "    elif row['internet_gb_used']>internet:\n",
    "        return (row['internet_gb_used']-internet)*row['usd_per_gb']\n",
    "    else:\n",
    "        # si la columna row['internet_gb_used'] es NaN el cargo será NaN\n",
    "        return float('nan')"
   ]
  },
  {
   "cell_type": "code",
   "execution_count": 43,
   "metadata": {},
   "outputs": [],
   "source": [
    "# creamos la columna 'cargo_internet' para almacenar el cobro extra por rebasar los limites en gigabytes del plan\n",
    "data_consumo_historic['cargo_internet']=data_consumo_historic.apply(cargos_extra_megas,axis=1)"
   ]
  },
  {
   "cell_type": "code",
   "execution_count": 44,
   "metadata": {},
   "outputs": [
    {
     "data": {
      "text/html": [
       "<div>\n",
       "<style scoped>\n",
       "    .dataframe tbody tr th:only-of-type {\n",
       "        vertical-align: middle;\n",
       "    }\n",
       "\n",
       "    .dataframe tbody tr th {\n",
       "        vertical-align: top;\n",
       "    }\n",
       "\n",
       "    .dataframe thead th {\n",
       "        text-align: right;\n",
       "    }\n",
       "</style>\n",
       "<table border=\"1\" class=\"dataframe\">\n",
       "  <thead>\n",
       "    <tr style=\"text-align: right;\">\n",
       "      <th></th>\n",
       "      <th>user_id</th>\n",
       "      <th>month</th>\n",
       "      <th>calls_minutes</th>\n",
       "      <th>calls_count</th>\n",
       "      <th>messages_count</th>\n",
       "      <th>internet_gb_used</th>\n",
       "      <th>first_name</th>\n",
       "      <th>last_name</th>\n",
       "      <th>age</th>\n",
       "      <th>city</th>\n",
       "      <th>...</th>\n",
       "      <th>messages_included</th>\n",
       "      <th>mb_per_month_included</th>\n",
       "      <th>minutes_included</th>\n",
       "      <th>usd_monthly_pay</th>\n",
       "      <th>usd_per_gb</th>\n",
       "      <th>usd_per_message</th>\n",
       "      <th>usd_per_minute</th>\n",
       "      <th>cargo_minutes</th>\n",
       "      <th>cargo_messages</th>\n",
       "      <th>cargo_internet</th>\n",
       "    </tr>\n",
       "  </thead>\n",
       "  <tbody>\n",
       "    <tr>\n",
       "      <th>3</th>\n",
       "      <td>1001</td>\n",
       "      <td>10</td>\n",
       "      <td>393.0</td>\n",
       "      <td>65.0</td>\n",
       "      <td>53.0</td>\n",
       "      <td>22.0</td>\n",
       "      <td>Mickey</td>\n",
       "      <td>Wilkerson</td>\n",
       "      <td>28</td>\n",
       "      <td>Seattle-Tacoma-Bellevue, WA MSA</td>\n",
       "      <td>...</td>\n",
       "      <td>50</td>\n",
       "      <td>15360</td>\n",
       "      <td>500</td>\n",
       "      <td>20</td>\n",
       "      <td>10</td>\n",
       "      <td>0.03</td>\n",
       "      <td>0.03</td>\n",
       "      <td>0.0</td>\n",
       "      <td>0.09</td>\n",
       "      <td>70.0</td>\n",
       "    </tr>\n",
       "    <tr>\n",
       "      <th>4</th>\n",
       "      <td>1001</td>\n",
       "      <td>11</td>\n",
       "      <td>426.0</td>\n",
       "      <td>64.0</td>\n",
       "      <td>36.0</td>\n",
       "      <td>19.0</td>\n",
       "      <td>Mickey</td>\n",
       "      <td>Wilkerson</td>\n",
       "      <td>28</td>\n",
       "      <td>Seattle-Tacoma-Bellevue, WA MSA</td>\n",
       "      <td>...</td>\n",
       "      <td>50</td>\n",
       "      <td>15360</td>\n",
       "      <td>500</td>\n",
       "      <td>20</td>\n",
       "      <td>10</td>\n",
       "      <td>0.03</td>\n",
       "      <td>0.03</td>\n",
       "      <td>0.0</td>\n",
       "      <td>0.00</td>\n",
       "      <td>40.0</td>\n",
       "    </tr>\n",
       "  </tbody>\n",
       "</table>\n",
       "<p>2 rows × 24 columns</p>\n",
       "</div>"
      ],
      "text/plain": [
       "   user_id  month  calls_minutes  calls_count  messages_count  \\\n",
       "3     1001     10          393.0         65.0            53.0   \n",
       "4     1001     11          426.0         64.0            36.0   \n",
       "\n",
       "   internet_gb_used first_name  last_name  age  \\\n",
       "3              22.0     Mickey  Wilkerson   28   \n",
       "4              19.0     Mickey  Wilkerson   28   \n",
       "\n",
       "                              city  ... messages_included  \\\n",
       "3  Seattle-Tacoma-Bellevue, WA MSA  ...                50   \n",
       "4  Seattle-Tacoma-Bellevue, WA MSA  ...                50   \n",
       "\n",
       "  mb_per_month_included minutes_included  usd_monthly_pay  usd_per_gb  \\\n",
       "3                 15360              500               20          10   \n",
       "4                 15360              500               20          10   \n",
       "\n",
       "   usd_per_message  usd_per_minute  cargo_minutes  cargo_messages  \\\n",
       "3             0.03            0.03            0.0            0.09   \n",
       "4             0.03            0.03            0.0            0.00   \n",
       "\n",
       "   cargo_internet  \n",
       "3            70.0  \n",
       "4            40.0  \n",
       "\n",
       "[2 rows x 24 columns]"
      ]
     },
     "execution_count": 44,
     "metadata": {},
     "output_type": "execute_result"
    }
   ],
   "source": [
    "# verificamos que se haga correctamente\n",
    "data_consumo_historic[data_consumo_historic['cargo_internet']>0].head(2)"
   ]
  },
  {
   "cell_type": "markdown",
   "metadata": {},
   "source": [
    "Vamos ahora a calcular el cargo mensual total que incluirá el costo del plan contratado, el cargo por minutos, mensajes y gigabytes adicionales."
   ]
  },
  {
   "cell_type": "code",
   "execution_count": 45,
   "metadata": {},
   "outputs": [
    {
     "data": {
      "text/plain": [
       "(2293, 25)"
      ]
     },
     "execution_count": 45,
     "metadata": {},
     "output_type": "execute_result"
    }
   ],
   "source": [
    "# Calculamos el cargo mensual para cada usuario\n",
    "data_consumo_historic['cargo_total']=data_consumo_historic['usd_monthly_pay']+data_consumo_historic['cargo_minutes']\\\n",
    "                                    +data_consumo_historic['cargo_messages']+data_consumo_historic['cargo_internet']\n",
    "data_consumo_historic.shape"
   ]
  },
  {
   "cell_type": "markdown",
   "metadata": {},
   "source": [
    "[Contenido](#contenido)\n",
    "## Estudia el comportamiento del usuario  \n",
    "Mostremos algunas estadísticas descriptivas para los datos agregados por usuario y mes. Ya que la finalidad es comparar los planes ofrecidos, vamos a crearlas para cada plan."
   ]
  },
  {
   "cell_type": "code",
   "execution_count": 46,
   "metadata": {},
   "outputs": [
    {
     "name": "stdout",
     "output_type": "stream",
     "text": [
      "Estadísticas para el consumo realizado por los usuarios del **plan Surf**\n"
     ]
    },
    {
     "data": {
      "text/html": [
       "<style  type=\"text/css\" >\n",
       "</style><table id=\"T_c17bd_\" ><thead>    <tr>        <th class=\"blank level0\" ></th>        <th class=\"col_heading level0 col0\" >calls_minutes</th>        <th class=\"col_heading level0 col1\" >calls_count</th>        <th class=\"col_heading level0 col2\" >messages_count</th>        <th class=\"col_heading level0 col3\" >internet_gb_used</th>    </tr></thead><tbody>\n",
       "                <tr>\n",
       "                        <th id=\"T_c17bd_level0_row0\" class=\"row_heading level0 row0\" >count</th>\n",
       "                        <td id=\"T_c17bd_row0_col0\" class=\"data row0 col0\" >1573.00</td>\n",
       "                        <td id=\"T_c17bd_row0_col1\" class=\"data row0 col1\" >1573.00</td>\n",
       "                        <td id=\"T_c17bd_row0_col2\" class=\"data row0 col2\" >1573.00</td>\n",
       "                        <td id=\"T_c17bd_row0_col3\" class=\"data row0 col3\" >1573.00</td>\n",
       "            </tr>\n",
       "            <tr>\n",
       "                        <th id=\"T_c17bd_level0_row1\" class=\"row_heading level0 row1\" >mean</th>\n",
       "                        <td id=\"T_c17bd_row1_col0\" class=\"data row1 col0\" >428.75</td>\n",
       "                        <td id=\"T_c17bd_row1_col1\" class=\"data row1 col1\" >59.81</td>\n",
       "                        <td id=\"T_c17bd_row1_col2\" class=\"data row1 col2\" >31.16</td>\n",
       "                        <td id=\"T_c17bd_row1_col3\" class=\"data row1 col3\" >16.67</td>\n",
       "            </tr>\n",
       "            <tr>\n",
       "                        <th id=\"T_c17bd_level0_row2\" class=\"row_heading level0 row2\" >std</th>\n",
       "                        <td id=\"T_c17bd_row2_col0\" class=\"data row2 col0\" >234.45</td>\n",
       "                        <td id=\"T_c17bd_row2_col1\" class=\"data row2 col1\" >32.02</td>\n",
       "                        <td id=\"T_c17bd_row2_col2\" class=\"data row2 col2\" >33.57</td>\n",
       "                        <td id=\"T_c17bd_row2_col3\" class=\"data row2 col3\" >7.85</td>\n",
       "            </tr>\n",
       "            <tr>\n",
       "                        <th id=\"T_c17bd_level0_row3\" class=\"row_heading level0 row3\" >min</th>\n",
       "                        <td id=\"T_c17bd_row3_col0\" class=\"data row3 col0\" >0.00</td>\n",
       "                        <td id=\"T_c17bd_row3_col1\" class=\"data row3 col1\" >0.00</td>\n",
       "                        <td id=\"T_c17bd_row3_col2\" class=\"data row3 col2\" >0.00</td>\n",
       "                        <td id=\"T_c17bd_row3_col3\" class=\"data row3 col3\" >0.00</td>\n",
       "            </tr>\n",
       "            <tr>\n",
       "                        <th id=\"T_c17bd_level0_row4\" class=\"row_heading level0 row4\" >25%</th>\n",
       "                        <td id=\"T_c17bd_row4_col0\" class=\"data row4 col0\" >272.00</td>\n",
       "                        <td id=\"T_c17bd_row4_col1\" class=\"data row4 col1\" >39.00</td>\n",
       "                        <td id=\"T_c17bd_row4_col2\" class=\"data row4 col2\" >3.00</td>\n",
       "                        <td id=\"T_c17bd_row4_col3\" class=\"data row4 col3\" >12.00</td>\n",
       "            </tr>\n",
       "            <tr>\n",
       "                        <th id=\"T_c17bd_level0_row5\" class=\"row_heading level0 row5\" >50%</th>\n",
       "                        <td id=\"T_c17bd_row5_col0\" class=\"data row5 col0\" >425.00</td>\n",
       "                        <td id=\"T_c17bd_row5_col1\" class=\"data row5 col1\" >60.00</td>\n",
       "                        <td id=\"T_c17bd_row5_col2\" class=\"data row5 col2\" >24.00</td>\n",
       "                        <td id=\"T_c17bd_row5_col3\" class=\"data row5 col3\" >17.00</td>\n",
       "            </tr>\n",
       "            <tr>\n",
       "                        <th id=\"T_c17bd_level0_row6\" class=\"row_heading level0 row6\" >75%</th>\n",
       "                        <td id=\"T_c17bd_row6_col0\" class=\"data row6 col0\" >576.00</td>\n",
       "                        <td id=\"T_c17bd_row6_col1\" class=\"data row6 col1\" >79.00</td>\n",
       "                        <td id=\"T_c17bd_row6_col2\" class=\"data row6 col2\" >47.00</td>\n",
       "                        <td id=\"T_c17bd_row6_col3\" class=\"data row6 col3\" >21.00</td>\n",
       "            </tr>\n",
       "            <tr>\n",
       "                        <th id=\"T_c17bd_level0_row7\" class=\"row_heading level0 row7\" >max</th>\n",
       "                        <td id=\"T_c17bd_row7_col0\" class=\"data row7 col0\" >1510.00</td>\n",
       "                        <td id=\"T_c17bd_row7_col1\" class=\"data row7 col1\" >205.00</td>\n",
       "                        <td id=\"T_c17bd_row7_col2\" class=\"data row7 col2\" >266.00</td>\n",
       "                        <td id=\"T_c17bd_row7_col3\" class=\"data row7 col3\" >70.00</td>\n",
       "            </tr>\n",
       "    </tbody></table>"
      ],
      "text/plain": [
       "<pandas.io.formats.style.Styler at 0x7f7eb28ab3a0>"
      ]
     },
     "execution_count": 46,
     "metadata": {},
     "output_type": "execute_result"
    }
   ],
   "source": [
    "# mostramos estadísticas para los consumos realizados por los usuario para el plan 'surf'\n",
    "print('Estadísticas para el consumo realizado por los usuarios del **plan Surf**')\n",
    "data_consumo_historic.loc[data_consumo_historic['plan_name']=='surf','calls_minutes':'internet_gb_used'].describe()\\\n",
    ".style.format('{:.2f}')"
   ]
  },
  {
   "cell_type": "code",
   "execution_count": 47,
   "metadata": {},
   "outputs": [
    {
     "name": "stdout",
     "output_type": "stream",
     "text": [
      "Estadísticas para el consumo realizado por los usuarios del **plan Ultimate**\n"
     ]
    },
    {
     "data": {
      "text/html": [
       "<style  type=\"text/css\" >\n",
       "</style><table id=\"T_338ae_\" ><thead>    <tr>        <th class=\"blank level0\" ></th>        <th class=\"col_heading level0 col0\" >calls_minutes</th>        <th class=\"col_heading level0 col1\" >calls_count</th>        <th class=\"col_heading level0 col2\" >messages_count</th>        <th class=\"col_heading level0 col3\" >internet_gb_used</th>    </tr></thead><tbody>\n",
       "                <tr>\n",
       "                        <th id=\"T_338ae_level0_row0\" class=\"row_heading level0 row0\" >count</th>\n",
       "                        <td id=\"T_338ae_row0_col0\" class=\"data row0 col0\" >720.00</td>\n",
       "                        <td id=\"T_338ae_row0_col1\" class=\"data row0 col1\" >720.00</td>\n",
       "                        <td id=\"T_338ae_row0_col2\" class=\"data row0 col2\" >720.00</td>\n",
       "                        <td id=\"T_338ae_row0_col3\" class=\"data row0 col3\" >720.00</td>\n",
       "            </tr>\n",
       "            <tr>\n",
       "                        <th id=\"T_338ae_level0_row1\" class=\"row_heading level0 row1\" >mean</th>\n",
       "                        <td id=\"T_338ae_row1_col0\" class=\"data row1 col0\" >430.45</td>\n",
       "                        <td id=\"T_338ae_row1_col1\" class=\"data row1 col1\" >60.63</td>\n",
       "                        <td id=\"T_338ae_row1_col2\" class=\"data row1 col2\" >37.55</td>\n",
       "                        <td id=\"T_338ae_row1_col3\" class=\"data row1 col3\" >17.31</td>\n",
       "            </tr>\n",
       "            <tr>\n",
       "                        <th id=\"T_338ae_level0_row2\" class=\"row_heading level0 row2\" >std</th>\n",
       "                        <td id=\"T_338ae_row2_col0\" class=\"data row2 col0\" >240.51</td>\n",
       "                        <td id=\"T_338ae_row2_col1\" class=\"data row2 col1\" >33.24</td>\n",
       "                        <td id=\"T_338ae_row2_col2\" class=\"data row2 col2\" >34.77</td>\n",
       "                        <td id=\"T_338ae_row2_col3\" class=\"data row2 col3\" >7.67</td>\n",
       "            </tr>\n",
       "            <tr>\n",
       "                        <th id=\"T_338ae_level0_row3\" class=\"row_heading level0 row3\" >min</th>\n",
       "                        <td id=\"T_338ae_row3_col0\" class=\"data row3 col0\" >0.00</td>\n",
       "                        <td id=\"T_338ae_row3_col1\" class=\"data row3 col1\" >0.00</td>\n",
       "                        <td id=\"T_338ae_row3_col2\" class=\"data row3 col2\" >0.00</td>\n",
       "                        <td id=\"T_338ae_row3_col3\" class=\"data row3 col3\" >0.00</td>\n",
       "            </tr>\n",
       "            <tr>\n",
       "                        <th id=\"T_338ae_level0_row4\" class=\"row_heading level0 row4\" >25%</th>\n",
       "                        <td id=\"T_338ae_row4_col0\" class=\"data row4 col0\" >260.00</td>\n",
       "                        <td id=\"T_338ae_row4_col1\" class=\"data row4 col1\" >36.00</td>\n",
       "                        <td id=\"T_338ae_row4_col2\" class=\"data row4 col2\" >7.00</td>\n",
       "                        <td id=\"T_338ae_row4_col3\" class=\"data row4 col3\" >13.00</td>\n",
       "            </tr>\n",
       "            <tr>\n",
       "                        <th id=\"T_338ae_level0_row5\" class=\"row_heading level0 row5\" >50%</th>\n",
       "                        <td id=\"T_338ae_row5_col0\" class=\"data row5 col0\" >424.00</td>\n",
       "                        <td id=\"T_338ae_row5_col1\" class=\"data row5 col1\" >61.00</td>\n",
       "                        <td id=\"T_338ae_row5_col2\" class=\"data row5 col2\" >30.00</td>\n",
       "                        <td id=\"T_338ae_row5_col3\" class=\"data row5 col3\" >17.00</td>\n",
       "            </tr>\n",
       "            <tr>\n",
       "                        <th id=\"T_338ae_level0_row6\" class=\"row_heading level0 row6\" >75%</th>\n",
       "                        <td id=\"T_338ae_row6_col0\" class=\"data row6 col0\" >565.25</td>\n",
       "                        <td id=\"T_338ae_row6_col1\" class=\"data row6 col1\" >80.00</td>\n",
       "                        <td id=\"T_338ae_row6_col2\" class=\"data row6 col2\" >61.00</td>\n",
       "                        <td id=\"T_338ae_row6_col3\" class=\"data row6 col3\" >21.00</td>\n",
       "            </tr>\n",
       "            <tr>\n",
       "                        <th id=\"T_338ae_level0_row7\" class=\"row_heading level0 row7\" >max</th>\n",
       "                        <td id=\"T_338ae_row7_col0\" class=\"data row7 col0\" >1369.00</td>\n",
       "                        <td id=\"T_338ae_row7_col1\" class=\"data row7 col1\" >191.00</td>\n",
       "                        <td id=\"T_338ae_row7_col2\" class=\"data row7 col2\" >166.00</td>\n",
       "                        <td id=\"T_338ae_row7_col3\" class=\"data row7 col3\" >46.00</td>\n",
       "            </tr>\n",
       "    </tbody></table>"
      ],
      "text/plain": [
       "<pandas.io.formats.style.Styler at 0x7f7f0c0f85e0>"
      ]
     },
     "execution_count": 47,
     "metadata": {},
     "output_type": "execute_result"
    }
   ],
   "source": [
    "# mostramos estadísticas para los consumos realizados por los usuario para el plan 'ultimate'\n",
    "print('Estadísticas para el consumo realizado por los usuarios del **plan Ultimate**')\n",
    "data_consumo_historic.loc[data_consumo_historic['plan_name']=='ultimate','calls_minutes':'internet_gb_used'].describe()\\\n",
    ".style.format('{:.2f}')"
   ]
  },
  {
   "cell_type": "markdown",
   "metadata": {},
   "source": [
    "### Llamadas"
   ]
  },
  {
   "cell_type": "code",
   "execution_count": 48,
   "metadata": {},
   "outputs": [
    {
     "data": {
      "text/html": [
       "<div>\n",
       "<style scoped>\n",
       "    .dataframe tbody tr th:only-of-type {\n",
       "        vertical-align: middle;\n",
       "    }\n",
       "\n",
       "    .dataframe tbody tr th {\n",
       "        vertical-align: top;\n",
       "    }\n",
       "\n",
       "    .dataframe thead th {\n",
       "        text-align: right;\n",
       "    }\n",
       "</style>\n",
       "<table border=\"1\" class=\"dataframe\">\n",
       "  <thead>\n",
       "    <tr style=\"text-align: right;\">\n",
       "      <th></th>\n",
       "      <th>month</th>\n",
       "      <th>plan_name</th>\n",
       "      <th>minutes_average</th>\n",
       "    </tr>\n",
       "  </thead>\n",
       "  <tbody>\n",
       "    <tr>\n",
       "      <th>0</th>\n",
       "      <td>1</td>\n",
       "      <td>surf</td>\n",
       "      <td>203.000000</td>\n",
       "    </tr>\n",
       "    <tr>\n",
       "      <th>1</th>\n",
       "      <td>1</td>\n",
       "      <td>ultimate</td>\n",
       "      <td>193.500000</td>\n",
       "    </tr>\n",
       "    <tr>\n",
       "      <th>2</th>\n",
       "      <td>2</td>\n",
       "      <td>surf</td>\n",
       "      <td>297.000000</td>\n",
       "    </tr>\n",
       "    <tr>\n",
       "      <th>3</th>\n",
       "      <td>2</td>\n",
       "      <td>ultimate</td>\n",
       "      <td>403.142857</td>\n",
       "    </tr>\n",
       "    <tr>\n",
       "      <th>4</th>\n",
       "      <td>3</td>\n",
       "      <td>surf</td>\n",
       "      <td>330.000000</td>\n",
       "    </tr>\n",
       "  </tbody>\n",
       "</table>\n",
       "</div>"
      ],
      "text/plain": [
       "   month plan_name  minutes_average\n",
       "0      1      surf       203.000000\n",
       "1      1  ultimate       193.500000\n",
       "2      2      surf       297.000000\n",
       "3      2  ultimate       403.142857\n",
       "4      3      surf       330.000000"
      ]
     },
     "execution_count": 48,
     "metadata": {},
     "output_type": "execute_result"
    }
   ],
   "source": [
    "# Comparamos la duración promedio de llamadas por mes para cada plan\n",
    "table_calls=data_consumo_historic.pivot_table(index=['month','plan_name'],values='calls_minutes',aggfunc='mean')\n",
    "table_calls.columns=['minutes_average']\n",
    "table_calls.reset_index(inplace=True)\n",
    "table_calls.head()"
   ]
  },
  {
   "cell_type": "code",
   "execution_count": 49,
   "metadata": {},
   "outputs": [
    {
     "data": {
      "image/png": "[encoded data removed]",
      "text/plain": [
       "<Figure size 720x360 with 1 Axes>"
      ]
     },
     "metadata": {
      "needs_background": "light"
     },
     "output_type": "display_data"
    }
   ],
   "source": [
    "# creamos una grafica de barras para visualizarlo\n",
    "plt.subplots(figsize=(10,5))\n",
    "sns.barplot(data=table_calls,x='month',y='minutes_average',hue='plan_name')\n",
    "plt.ylim(0,table_calls['minutes_average'].max()*1.2)\n",
    "plt.title('Duración promedio de llamadas de los usuarios de cada plan por mes')\n",
    "plt.legend(loc='best')\n",
    "plt.show()"
   ]
  },
  {
   "cell_type": "markdown",
   "metadata": {},
   "source": [
    "La duración promedio de llamadas es muy similar entre los dos planes, salvo en el mes dos que el plan `'ultimate'` tiene un mayor promedio de llamadas que el plan `'surf'`."
   ]
  },
  {
   "cell_type": "code",
   "execution_count": 50,
   "metadata": {},
   "outputs": [
    {
     "data": {
      "text/html": [
       "<div>\n",
       "<style scoped>\n",
       "    .dataframe tbody tr th:only-of-type {\n",
       "        vertical-align: middle;\n",
       "    }\n",
       "\n",
       "    .dataframe tbody tr th {\n",
       "        vertical-align: top;\n",
       "    }\n",
       "\n",
       "    .dataframe thead th {\n",
       "        text-align: right;\n",
       "    }\n",
       "</style>\n",
       "<table border=\"1\" class=\"dataframe\">\n",
       "  <thead>\n",
       "    <tr style=\"text-align: right;\">\n",
       "      <th></th>\n",
       "      <th>month</th>\n",
       "      <th>plan_name</th>\n",
       "      <th>calls_minutes</th>\n",
       "    </tr>\n",
       "  </thead>\n",
       "  <tbody>\n",
       "    <tr>\n",
       "      <th>0</th>\n",
       "      <td>1</td>\n",
       "      <td>surf</td>\n",
       "      <td>406.0</td>\n",
       "    </tr>\n",
       "    <tr>\n",
       "      <th>1</th>\n",
       "      <td>1</td>\n",
       "      <td>ultimate</td>\n",
       "      <td>774.0</td>\n",
       "    </tr>\n",
       "    <tr>\n",
       "      <th>2</th>\n",
       "      <td>2</td>\n",
       "      <td>surf</td>\n",
       "      <td>2673.0</td>\n",
       "    </tr>\n",
       "    <tr>\n",
       "      <th>3</th>\n",
       "      <td>2</td>\n",
       "      <td>ultimate</td>\n",
       "      <td>2822.0</td>\n",
       "    </tr>\n",
       "    <tr>\n",
       "      <th>4</th>\n",
       "      <td>3</td>\n",
       "      <td>surf</td>\n",
       "      <td>7590.0</td>\n",
       "    </tr>\n",
       "  </tbody>\n",
       "</table>\n",
       "</div>"
      ],
      "text/plain": [
       "   month plan_name  calls_minutes\n",
       "0      1      surf          406.0\n",
       "1      1  ultimate          774.0\n",
       "2      2      surf         2673.0\n",
       "3      2  ultimate         2822.0\n",
       "4      3      surf         7590.0"
      ]
     },
     "execution_count": 50,
     "metadata": {},
     "output_type": "execute_result"
    }
   ],
   "source": [
    "# Comparamos el número de minutos por mes que los usuarios de cada plan requieren\n",
    "table_minutes=data_consumo_historic.pivot_table(index=['month','plan_name'],values='calls_minutes',aggfunc='sum')\n",
    "table_minutes.reset_index(inplace=True)\n",
    "table_minutes.head()"
   ]
  },
  {
   "cell_type": "code",
   "execution_count": 51,
   "metadata": {},
   "outputs": [
    {
     "data": {
      "image/png": "[encoded data removed]",
      "text/plain": [
       "<Figure size 720x360 with 1 Axes>"
      ]
     },
     "metadata": {
      "needs_background": "light"
     },
     "output_type": "display_data"
    }
   ],
   "source": [
    "# creamos una grafica de barras para visualizarlo\n",
    "plt.subplots(figsize=(10,5))\n",
    "sns.barplot(data=table_minutes,x='month',y='calls_minutes',hue='plan_name')\n",
    "plt.ylim(0,table_minutes['calls_minutes'].max()*1.2)\n",
    "plt.title('Cantidad de minutos que los usuarios de cada plan requieren cada mes')\n",
    "plt.legend(loc='best')\n",
    "plt.show()"
   ]
  },
  {
   "cell_type": "markdown",
   "metadata": {},
   "source": [
    "Calculemos la media y la varianza de la duración de las llamadas para concluir si los usuarios de diferentes planes muestran comportamientos distintos en sus llamadas."
   ]
  },
  {
   "cell_type": "code",
   "execution_count": 52,
   "metadata": {},
   "outputs": [
    {
     "data": {
      "text/html": [
       "<style  type=\"text/css\" >\n",
       "</style><table id=\"T_99eeb_\" ><thead>    <tr>        <th class=\"blank level0\" ></th>        <th class=\"col_heading level0 col0\" >mean</th>        <th class=\"col_heading level0 col1\" >var</th>        <th class=\"col_heading level0 col2\" >std</th>    </tr>    <tr>        <th class=\"blank level1\" ></th>        <th class=\"col_heading level1 col0\" >calls_minutes</th>        <th class=\"col_heading level1 col1\" >calls_minutes</th>        <th class=\"col_heading level1 col2\" >calls_minutes</th>    </tr>    <tr>        <th class=\"index_name level0\" >plan_name</th>        <th class=\"blank\" ></th>        <th class=\"blank\" ></th>        <th class=\"blank\" ></th>    </tr></thead><tbody>\n",
       "                <tr>\n",
       "                        <th id=\"T_99eeb_level0_row0\" class=\"row_heading level0 row0\" >surf</th>\n",
       "                        <td id=\"T_99eeb_row0_col0\" class=\"data row0 col0\" >428.75</td>\n",
       "                        <td id=\"T_99eeb_row0_col1\" class=\"data row0 col1\" >54968.28</td>\n",
       "                        <td id=\"T_99eeb_row0_col2\" class=\"data row0 col2\" >234.45</td>\n",
       "            </tr>\n",
       "            <tr>\n",
       "                        <th id=\"T_99eeb_level0_row1\" class=\"row_heading level0 row1\" >ultimate</th>\n",
       "                        <td id=\"T_99eeb_row1_col0\" class=\"data row1 col0\" >430.45</td>\n",
       "                        <td id=\"T_99eeb_row1_col1\" class=\"data row1 col1\" >57844.46</td>\n",
       "                        <td id=\"T_99eeb_row1_col2\" class=\"data row1 col2\" >240.51</td>\n",
       "            </tr>\n",
       "    </tbody></table>"
      ],
      "text/plain": [
       "<pandas.io.formats.style.Styler at 0x7f7eb23cfc40>"
      ]
     },
     "execution_count": 52,
     "metadata": {},
     "output_type": "execute_result"
    }
   ],
   "source": [
    "# Calculamos la media y la varianza de la duración mensual de llamadas\n",
    "table_duracion_media=data_consumo_historic.pivot_table(index='plan_name',values='calls_minutes',\\\n",
    "                                                       aggfunc=['mean','var','std'])\\\n",
    "                                                        .style.format('{:.2f}')\n",
    "table_duracion_media"
   ]
  },
  {
   "cell_type": "code",
   "execution_count": 53,
   "metadata": {},
   "outputs": [
    {
     "name": "stderr",
     "output_type": "stream",
     "text": [
      "/opt/conda/lib/python3.9/site-packages/seaborn/distributions.py:2557: FutureWarning: `distplot` is a deprecated function and will be removed in a future version. Please adapt your code to use either `displot` (a figure-level function with similar flexibility) or `histplot` (an axes-level function for histograms).\n",
      "  warnings.warn(msg, FutureWarning)\n"
     ]
    },
    {
     "data": {
      "image/png": "[encoded data removed]",
      "text/plain": [
       "<Figure size 720x576 with 2 Axes>"
      ]
     },
     "metadata": {
      "needs_background": "light"
     },
     "output_type": "display_data"
    },
    {
     "name": "stderr",
     "output_type": "stream",
     "text": [
      "/opt/conda/lib/python3.9/site-packages/seaborn/distributions.py:2557: FutureWarning: `distplot` is a deprecated function and will be removed in a future version. Please adapt your code to use either `displot` (a figure-level function with similar flexibility) or `histplot` (an axes-level function for histograms).\n",
      "  warnings.warn(msg, FutureWarning)\n"
     ]
    },
    {
     "data": {
      "image/png": "[encoded data removed]",
      "text/plain": [
       "<Figure size 720x576 with 2 Axes>"
      ]
     },
     "metadata": {
      "needs_background": "light"
     },
     "output_type": "display_data"
    }
   ],
   "source": [
    "# Trazamos un diagrama de caja para visualizar la distribución de la duración de las llamadas\n",
    "for var in ['surf','ultimate']:\n",
    "    f, ax = plt.subplots(2,\n",
    "                     sharex=True,\n",
    "                     gridspec_kw={\"height_ratios\": (.20, .80)},figsize=(10,8))\n",
    "    datos=data_consumo_historic.query('plan_name==@var')\n",
    "    # gráfico boxplot\n",
    "    sns.boxplot(x=datos['calls_minutes'],data=datos,ax=ax[0],palette='YlGnBu_r')\n",
    "    # gráfico de distribución\n",
    "    sns.distplot(datos['calls_minutes'],bins=50,ax=ax[1])\n",
    "    # media de los datos en el histograma\n",
    "    ax[1].axvline(datos['calls_minutes'].mean(), color='red')\n",
    "    plt.title('Distribución de la duración mensual de llamadas para el plan '+var)\n",
    "    plt.show()"
   ]
  },
  {
   "cell_type": "markdown",
   "metadata": {},
   "source": [
    "En general, el comportamiento de la duración mensual de llamadas de los usuarios entre los planes es muy similar, con una mayor variación en el plan ultimate."
   ]
  },
  {
   "cell_type": "markdown",
   "metadata": {},
   "source": [
    " "
   ]
  },
  {
   "cell_type": "markdown",
   "metadata": {},
   "source": [
    "### Mensajes"
   ]
  },
  {
   "cell_type": "code",
   "execution_count": 54,
   "metadata": {},
   "outputs": [
    {
     "data": {
      "text/html": [
       "<div>\n",
       "<style scoped>\n",
       "    .dataframe tbody tr th:only-of-type {\n",
       "        vertical-align: middle;\n",
       "    }\n",
       "\n",
       "    .dataframe tbody tr th {\n",
       "        vertical-align: top;\n",
       "    }\n",
       "\n",
       "    .dataframe thead th {\n",
       "        text-align: right;\n",
       "    }\n",
       "</style>\n",
       "<table border=\"1\" class=\"dataframe\">\n",
       "  <thead>\n",
       "    <tr style=\"text-align: right;\">\n",
       "      <th></th>\n",
       "      <th>month</th>\n",
       "      <th>plan_name</th>\n",
       "      <th>messages_sum</th>\n",
       "    </tr>\n",
       "  </thead>\n",
       "  <tbody>\n",
       "    <tr>\n",
       "      <th>0</th>\n",
       "      <td>1</td>\n",
       "      <td>surf</td>\n",
       "      <td>21.0</td>\n",
       "    </tr>\n",
       "    <tr>\n",
       "      <th>1</th>\n",
       "      <td>1</td>\n",
       "      <td>ultimate</td>\n",
       "      <td>62.0</td>\n",
       "    </tr>\n",
       "    <tr>\n",
       "      <th>2</th>\n",
       "      <td>2</td>\n",
       "      <td>surf</td>\n",
       "      <td>108.0</td>\n",
       "    </tr>\n",
       "    <tr>\n",
       "      <th>3</th>\n",
       "      <td>2</td>\n",
       "      <td>ultimate</td>\n",
       "      <td>151.0</td>\n",
       "    </tr>\n",
       "    <tr>\n",
       "      <th>4</th>\n",
       "      <td>3</td>\n",
       "      <td>surf</td>\n",
       "      <td>351.0</td>\n",
       "    </tr>\n",
       "  </tbody>\n",
       "</table>\n",
       "</div>"
      ],
      "text/plain": [
       "   month plan_name  messages_sum\n",
       "0      1      surf          21.0\n",
       "1      1  ultimate          62.0\n",
       "2      2      surf         108.0\n",
       "3      2  ultimate         151.0\n",
       "4      3      surf         351.0"
      ]
     },
     "execution_count": 54,
     "metadata": {},
     "output_type": "execute_result"
    }
   ],
   "source": [
    "# Comparemos el número de mensajes que tienden a enviar cada mes los usuarios de cada plan\n",
    "table_messages=data_consumo_historic.pivot_table(index=['month','plan_name'],values='messages_count',aggfunc='sum')\n",
    "table_messages.columns=['messages_sum']\n",
    "table_messages.reset_index(inplace=True)\n",
    "table_messages.head()"
   ]
  },
  {
   "cell_type": "code",
   "execution_count": 55,
   "metadata": {},
   "outputs": [
    {
     "data": {
      "image/png": "[encoded data removed]",
      "text/plain": [
       "<Figure size 720x360 with 1 Axes>"
      ]
     },
     "metadata": {
      "needs_background": "light"
     },
     "output_type": "display_data"
    }
   ],
   "source": [
    "# creamos una grafica de barras para visualizar el número de mensajes que tienden a enviar cada mes los usuarios de cada plan\n",
    "plt.subplots(figsize=(10,5))\n",
    "sns.barplot(data=table_messages,x='month',y='messages_sum',hue='plan_name')\n",
    "plt.ylim(0,table_messages['messages_sum'].max()*1.2)\n",
    "plt.title('Número de mensajes que tienden a enviar cada mes los usuarios de cada plan')\n",
    "plt.legend(loc='best')\n",
    "plt.show()"
   ]
  },
  {
   "cell_type": "code",
   "execution_count": 56,
   "metadata": {},
   "outputs": [
    {
     "data": {
      "text/html": [
       "<style  type=\"text/css\" >\n",
       "</style><table id=\"T_85387_\" ><thead>    <tr>        <th class=\"blank level0\" ></th>        <th class=\"col_heading level0 col0\" >mean</th>        <th class=\"col_heading level0 col1\" >var</th>        <th class=\"col_heading level0 col2\" >std</th>    </tr>    <tr>        <th class=\"blank level1\" ></th>        <th class=\"col_heading level1 col0\" >messages_count</th>        <th class=\"col_heading level1 col1\" >messages_count</th>        <th class=\"col_heading level1 col2\" >messages_count</th>    </tr>    <tr>        <th class=\"index_name level0\" >plan_name</th>        <th class=\"blank\" ></th>        <th class=\"blank\" ></th>        <th class=\"blank\" ></th>    </tr></thead><tbody>\n",
       "                <tr>\n",
       "                        <th id=\"T_85387_level0_row0\" class=\"row_heading level0 row0\" >surf</th>\n",
       "                        <td id=\"T_85387_row0_col0\" class=\"data row0 col0\" >31.16</td>\n",
       "                        <td id=\"T_85387_row0_col1\" class=\"data row0 col1\" >1126.72</td>\n",
       "                        <td id=\"T_85387_row0_col2\" class=\"data row0 col2\" >33.57</td>\n",
       "            </tr>\n",
       "            <tr>\n",
       "                        <th id=\"T_85387_level0_row1\" class=\"row_heading level0 row1\" >ultimate</th>\n",
       "                        <td id=\"T_85387_row1_col0\" class=\"data row1 col0\" >37.55</td>\n",
       "                        <td id=\"T_85387_row1_col1\" class=\"data row1 col1\" >1208.76</td>\n",
       "                        <td id=\"T_85387_row1_col2\" class=\"data row1 col2\" >34.77</td>\n",
       "            </tr>\n",
       "    </tbody></table>"
      ],
      "text/plain": [
       "<pandas.io.formats.style.Styler at 0x7f7eb2060f40>"
      ]
     },
     "execution_count": 56,
     "metadata": {},
     "output_type": "execute_result"
    }
   ],
   "source": [
    "# Calculamos la media y la varianza de la cantidad de mensajes enviados por los usuarios por plan\n",
    "table_messages_media=data_consumo_historic.pivot_table(index='plan_name',values='messages_count',\\\n",
    "                                                       aggfunc=['mean','var','std'])\\\n",
    "                                                        .style.format('{:.2f}')\n",
    "table_messages_media"
   ]
  },
  {
   "cell_type": "code",
   "execution_count": 57,
   "metadata": {},
   "outputs": [
    {
     "name": "stderr",
     "output_type": "stream",
     "text": [
      "/opt/conda/lib/python3.9/site-packages/seaborn/distributions.py:2557: FutureWarning: `distplot` is a deprecated function and will be removed in a future version. Please adapt your code to use either `displot` (a figure-level function with similar flexibility) or `histplot` (an axes-level function for histograms).\n",
      "  warnings.warn(msg, FutureWarning)\n"
     ]
    },
    {
     "data": {
      "image/png": "[encoded data removed]",
      "text/plain": [
       "<Figure size 720x576 with 2 Axes>"
      ]
     },
     "metadata": {
      "needs_background": "light"
     },
     "output_type": "display_data"
    },
    {
     "name": "stderr",
     "output_type": "stream",
     "text": [
      "/opt/conda/lib/python3.9/site-packages/seaborn/distributions.py:2557: FutureWarning: `distplot` is a deprecated function and will be removed in a future version. Please adapt your code to use either `displot` (a figure-level function with similar flexibility) or `histplot` (an axes-level function for histograms).\n",
      "  warnings.warn(msg, FutureWarning)\n"
     ]
    },
    {
     "data": {
      "image/png": "[encoded data removed]",
      "text/plain": [
       "<Figure size 720x576 with 2 Axes>"
      ]
     },
     "metadata": {
      "needs_background": "light"
     },
     "output_type": "display_data"
    }
   ],
   "source": [
    "# Trazamos un diagrama de caja para visualizar la cantidad de mensajes enviados por los usuarios por plan\n",
    "for var in ['surf','ultimate']:\n",
    "    f, ax = plt.subplots(2,\n",
    "                     sharex=True,\n",
    "                     gridspec_kw={\"height_ratios\": (.20, .80)},figsize=(10,8))\n",
    "    datos=data_consumo_historic.query('plan_name==@var')\n",
    "    # gráfico boxplot\n",
    "    sns.boxplot(x=datos['messages_count'],data=datos,ax=ax[0],palette='YlGnBu_r')\n",
    "    # gráfico de distribución\n",
    "    sns.distplot(datos['messages_count'],bins=50,ax=ax[1])\n",
    "    # media de los datos en el histograma\n",
    "    ax[1].axvline(datos['messages_count'].mean(), color='red')\n",
    "    plt.title('Cantidad de mensajes enviados por los usuarios para el plan '+var)\n",
    "    plt.show()"
   ]
  },
  {
   "cell_type": "markdown",
   "metadata": {},
   "source": [
    "El comportamiento en cuanto al envio de mensajes en los dos planes es muy distinto. La media de mensajes enviados en el plan `'ultimate'` es mayor que en el plan `'surf'`, presentando también variación muy similar. Tenemos también una gran cantidad de personas que envian pocos mensajes, en los dos tipos de planes."
   ]
  },
  {
   "cell_type": "markdown",
   "metadata": {},
   "source": [
    " "
   ]
  },
  {
   "cell_type": "markdown",
   "metadata": {},
   "source": [
    "### Internet"
   ]
  },
  {
   "cell_type": "code",
   "execution_count": 58,
   "metadata": {},
   "outputs": [
    {
     "data": {
      "text/html": [
       "<div>\n",
       "<style scoped>\n",
       "    .dataframe tbody tr th:only-of-type {\n",
       "        vertical-align: middle;\n",
       "    }\n",
       "\n",
       "    .dataframe tbody tr th {\n",
       "        vertical-align: top;\n",
       "    }\n",
       "\n",
       "    .dataframe thead th {\n",
       "        text-align: right;\n",
       "    }\n",
       "</style>\n",
       "<table border=\"1\" class=\"dataframe\">\n",
       "  <thead>\n",
       "    <tr style=\"text-align: right;\">\n",
       "      <th></th>\n",
       "      <th>month</th>\n",
       "      <th>plan_name</th>\n",
       "      <th>internet_gb_used</th>\n",
       "    </tr>\n",
       "  </thead>\n",
       "  <tbody>\n",
       "    <tr>\n",
       "      <th>0</th>\n",
       "      <td>1</td>\n",
       "      <td>surf</td>\n",
       "      <td>10.0</td>\n",
       "    </tr>\n",
       "    <tr>\n",
       "      <th>1</th>\n",
       "      <td>1</td>\n",
       "      <td>ultimate</td>\n",
       "      <td>29.0</td>\n",
       "    </tr>\n",
       "    <tr>\n",
       "      <th>2</th>\n",
       "      <td>2</td>\n",
       "      <td>surf</td>\n",
       "      <td>110.0</td>\n",
       "    </tr>\n",
       "    <tr>\n",
       "      <th>3</th>\n",
       "      <td>2</td>\n",
       "      <td>ultimate</td>\n",
       "      <td>121.0</td>\n",
       "    </tr>\n",
       "    <tr>\n",
       "      <th>4</th>\n",
       "      <td>3</td>\n",
       "      <td>surf</td>\n",
       "      <td>312.0</td>\n",
       "    </tr>\n",
       "  </tbody>\n",
       "</table>\n",
       "</div>"
      ],
      "text/plain": [
       "   month plan_name  internet_gb_used\n",
       "0      1      surf              10.0\n",
       "1      1  ultimate              29.0\n",
       "2      2      surf             110.0\n",
       "3      2  ultimate             121.0\n",
       "4      3      surf             312.0"
      ]
     },
     "execution_count": 58,
     "metadata": {},
     "output_type": "execute_result"
    }
   ],
   "source": [
    "# Comparemos la cantidad de tráfico de internet consumido por los usuarios de cada plan\n",
    "table_internet=data_consumo_historic.pivot_table(index=['month','plan_name'],values='internet_gb_used',aggfunc='sum')\n",
    "table_internet.reset_index(inplace=True)\n",
    "table_internet.head()"
   ]
  },
  {
   "cell_type": "code",
   "execution_count": 59,
   "metadata": {},
   "outputs": [
    {
     "data": {
      "image/png": "[encoded data removed]",
      "text/plain": [
       "<Figure size 720x360 with 1 Axes>"
      ]
     },
     "metadata": {
      "needs_background": "light"
     },
     "output_type": "display_data"
    }
   ],
   "source": [
    "# creamos una grafica de barras para visualizar la cantidad de tráfico de internet consumido por mes\n",
    "plt.subplots(figsize=(10,5))\n",
    "sns.barplot(data=table_internet,x='month',y='internet_gb_used',hue='plan_name')\n",
    "plt.ylim(0,table_internet['internet_gb_used'].max()*1.2)\n",
    "plt.title('Cantidad de tráfico de internet consumido por los usuarios por cada plan')\n",
    "plt.legend(loc='best')\n",
    "plt.show()"
   ]
  },
  {
   "cell_type": "code",
   "execution_count": 60,
   "metadata": {},
   "outputs": [
    {
     "data": {
      "text/html": [
       "<style  type=\"text/css\" >\n",
       "</style><table id=\"T_4d931_\" ><thead>    <tr>        <th class=\"blank level0\" ></th>        <th class=\"col_heading level0 col0\" >mean</th>        <th class=\"col_heading level0 col1\" >var</th>        <th class=\"col_heading level0 col2\" >std</th>    </tr>    <tr>        <th class=\"blank level1\" ></th>        <th class=\"col_heading level1 col0\" >internet_gb_used</th>        <th class=\"col_heading level1 col1\" >internet_gb_used</th>        <th class=\"col_heading level1 col2\" >internet_gb_used</th>    </tr>    <tr>        <th class=\"index_name level0\" >plan_name</th>        <th class=\"blank\" ></th>        <th class=\"blank\" ></th>        <th class=\"blank\" ></th>    </tr></thead><tbody>\n",
       "                <tr>\n",
       "                        <th id=\"T_4d931_level0_row0\" class=\"row_heading level0 row0\" >surf</th>\n",
       "                        <td id=\"T_4d931_row0_col0\" class=\"data row0 col0\" >16.67</td>\n",
       "                        <td id=\"T_4d931_row0_col1\" class=\"data row0 col1\" >61.58</td>\n",
       "                        <td id=\"T_4d931_row0_col2\" class=\"data row0 col2\" >7.85</td>\n",
       "            </tr>\n",
       "            <tr>\n",
       "                        <th id=\"T_4d931_level0_row1\" class=\"row_heading level0 row1\" >ultimate</th>\n",
       "                        <td id=\"T_4d931_row1_col0\" class=\"data row1 col0\" >17.31</td>\n",
       "                        <td id=\"T_4d931_row1_col1\" class=\"data row1 col1\" >58.83</td>\n",
       "                        <td id=\"T_4d931_row1_col2\" class=\"data row1 col2\" >7.67</td>\n",
       "            </tr>\n",
       "    </tbody></table>"
      ],
      "text/plain": [
       "<pandas.io.formats.style.Styler at 0x7f7eb2110190>"
      ]
     },
     "execution_count": 60,
     "metadata": {},
     "output_type": "execute_result"
    }
   ],
   "source": [
    "# Calculamos la media y la varianza de la cantidad de tráfico de internet consumido\n",
    "table_internet_media=data_consumo_historic.pivot_table(index='plan_name',values='internet_gb_used',\\\n",
    "                                                       aggfunc=['mean','var','std'])\\\n",
    "                                                        .style.format('{:.2f}')\n",
    "table_internet_media"
   ]
  },
  {
   "cell_type": "code",
   "execution_count": 61,
   "metadata": {},
   "outputs": [
    {
     "name": "stderr",
     "output_type": "stream",
     "text": [
      "/opt/conda/lib/python3.9/site-packages/seaborn/distributions.py:2557: FutureWarning: `distplot` is a deprecated function and will be removed in a future version. Please adapt your code to use either `displot` (a figure-level function with similar flexibility) or `histplot` (an axes-level function for histograms).\n",
      "  warnings.warn(msg, FutureWarning)\n"
     ]
    },
    {
     "data": {
      "image/png": "[encoded data removed]",
      "text/plain": [
       "<Figure size 720x576 with 2 Axes>"
      ]
     },
     "metadata": {
      "needs_background": "light"
     },
     "output_type": "display_data"
    },
    {
     "name": "stderr",
     "output_type": "stream",
     "text": [
      "/opt/conda/lib/python3.9/site-packages/seaborn/distributions.py:2557: FutureWarning: `distplot` is a deprecated function and will be removed in a future version. Please adapt your code to use either `displot` (a figure-level function with similar flexibility) or `histplot` (an axes-level function for histograms).\n",
      "  warnings.warn(msg, FutureWarning)\n"
     ]
    },
    {
     "data": {
      "image/png": "[encoded data removed]",
      "text/plain": [
       "<Figure size 720x576 with 2 Axes>"
      ]
     },
     "metadata": {
      "needs_background": "light"
     },
     "output_type": "display_data"
    }
   ],
   "source": [
    "# Trazamos un diagrama de caja para visualizar la cantidad de tráfico de internet consumido por los usuarios por plan\n",
    "for var in ['surf','ultimate']:\n",
    "    f, ax = plt.subplots(2,\n",
    "                     sharex=True,\n",
    "                     gridspec_kw={\"height_ratios\": (.20, .80)},figsize=(10,8))\n",
    "    datos=data_consumo_historic.query('plan_name==@var')\n",
    "    # gráfico boxplot\n",
    "    sns.boxplot(x=datos['internet_gb_used'],data=datos,ax=ax[0],palette='YlGnBu_r')\n",
    "    # gráfico de distribución\n",
    "    sns.distplot(datos['internet_gb_used'],bins=50,ax=ax[1])\n",
    "    # media de los datos en el histograma\n",
    "    ax[1].axvline(datos['internet_gb_used'].mean(), color='red')\n",
    "    plt.title('Cantidad de tráfico de internet consumido por los usuarios para el plan '+var)\n",
    "    plt.show()"
   ]
  },
  {
   "cell_type": "markdown",
   "metadata": {},
   "source": [
    "El comportamiento de los usuarios en cuanto al tráfico de internet es muy similar entre los planes. Presentan una media cercana a diecisiete y una varianza cercana a sesenta."
   ]
  },
  {
   "cell_type": "markdown",
   "metadata": {},
   "source": [
    " "
   ]
  },
  {
   "cell_type": "markdown",
   "metadata": {},
   "source": [
    "[Contenido](#contenido)\n",
    "## Ingreso"
   ]
  },
  {
   "cell_type": "markdown",
   "metadata": {},
   "source": [
    "Comencemos por describir estadísticamente el ingreso (cargos al usuario) por plan."
   ]
  },
  {
   "cell_type": "code",
   "execution_count": 62,
   "metadata": {},
   "outputs": [
    {
     "name": "stdout",
     "output_type": "stream",
     "text": [
      "Estadísticas para el cargo realizado a los usuarios del **plan Surf**\n"
     ]
    },
    {
     "data": {
      "text/html": [
       "<style  type=\"text/css\" >\n",
       "</style><table id=\"T_e9980_\" ><thead>    <tr>        <th class=\"blank level0\" ></th>        <th class=\"col_heading level0 col0\" >cargo_minutes</th>        <th class=\"col_heading level0 col1\" >cargo_messages</th>        <th class=\"col_heading level0 col2\" >cargo_internet</th>        <th class=\"col_heading level0 col3\" >cargo_total</th>    </tr></thead><tbody>\n",
       "                <tr>\n",
       "                        <th id=\"T_e9980_level0_row0\" class=\"row_heading level0 row0\" >count</th>\n",
       "                        <td id=\"T_e9980_row0_col0\" class=\"data row0 col0\" >1573.00</td>\n",
       "                        <td id=\"T_e9980_row0_col1\" class=\"data row0 col1\" >1573.00</td>\n",
       "                        <td id=\"T_e9980_row0_col2\" class=\"data row0 col2\" >1573.00</td>\n",
       "                        <td id=\"T_e9980_row0_col3\" class=\"data row0 col3\" >1573.00</td>\n",
       "            </tr>\n",
       "            <tr>\n",
       "                        <th id=\"T_e9980_level0_row1\" class=\"row_heading level0 row1\" >mean</th>\n",
       "                        <td id=\"T_e9980_row1_col0\" class=\"data row1 col0\" >1.84</td>\n",
       "                        <td id=\"T_e9980_row1_col1\" class=\"data row1 col1\" >0.21</td>\n",
       "                        <td id=\"T_e9980_row1_col2\" class=\"data row1 col2\" >38.65</td>\n",
       "                        <td id=\"T_e9980_row1_col3\" class=\"data row1 col3\" >60.71</td>\n",
       "            </tr>\n",
       "            <tr>\n",
       "                        <th id=\"T_e9980_level0_row2\" class=\"row_heading level0 row2\" >std</th>\n",
       "                        <td id=\"T_e9980_row2_col0\" class=\"data row2 col0\" >3.77</td>\n",
       "                        <td id=\"T_e9980_row2_col1\" class=\"data row2 col1\" >0.58</td>\n",
       "                        <td id=\"T_e9980_row2_col2\" class=\"data row2 col2\" >54.46</td>\n",
       "                        <td id=\"T_e9980_row2_col3\" class=\"data row2 col3\" >55.39</td>\n",
       "            </tr>\n",
       "            <tr>\n",
       "                        <th id=\"T_e9980_level0_row3\" class=\"row_heading level0 row3\" >min</th>\n",
       "                        <td id=\"T_e9980_row3_col0\" class=\"data row3 col0\" >0.00</td>\n",
       "                        <td id=\"T_e9980_row3_col1\" class=\"data row3 col1\" >0.00</td>\n",
       "                        <td id=\"T_e9980_row3_col2\" class=\"data row3 col2\" >0.00</td>\n",
       "                        <td id=\"T_e9980_row3_col3\" class=\"data row3 col3\" >20.00</td>\n",
       "            </tr>\n",
       "            <tr>\n",
       "                        <th id=\"T_e9980_level0_row4\" class=\"row_heading level0 row4\" >25%</th>\n",
       "                        <td id=\"T_e9980_row4_col0\" class=\"data row4 col0\" >0.00</td>\n",
       "                        <td id=\"T_e9980_row4_col1\" class=\"data row4 col1\" >0.00</td>\n",
       "                        <td id=\"T_e9980_row4_col2\" class=\"data row4 col2\" >0.00</td>\n",
       "                        <td id=\"T_e9980_row4_col3\" class=\"data row4 col3\" >20.00</td>\n",
       "            </tr>\n",
       "            <tr>\n",
       "                        <th id=\"T_e9980_level0_row5\" class=\"row_heading level0 row5\" >50%</th>\n",
       "                        <td id=\"T_e9980_row5_col0\" class=\"data row5 col0\" >0.00</td>\n",
       "                        <td id=\"T_e9980_row5_col1\" class=\"data row5 col1\" >0.00</td>\n",
       "                        <td id=\"T_e9980_row5_col2\" class=\"data row5 col2\" >20.00</td>\n",
       "                        <td id=\"T_e9980_row5_col3\" class=\"data row5 col3\" >40.36</td>\n",
       "            </tr>\n",
       "            <tr>\n",
       "                        <th id=\"T_e9980_level0_row6\" class=\"row_heading level0 row6\" >75%</th>\n",
       "                        <td id=\"T_e9980_row6_col0\" class=\"data row6 col0\" >2.28</td>\n",
       "                        <td id=\"T_e9980_row6_col1\" class=\"data row6 col1\" >0.00</td>\n",
       "                        <td id=\"T_e9980_row6_col2\" class=\"data row6 col2\" >60.00</td>\n",
       "                        <td id=\"T_e9980_row6_col3\" class=\"data row6 col3\" >80.36</td>\n",
       "            </tr>\n",
       "            <tr>\n",
       "                        <th id=\"T_e9980_level0_row7\" class=\"row_heading level0 row7\" >max</th>\n",
       "                        <td id=\"T_e9980_row7_col0\" class=\"data row7 col0\" >30.30</td>\n",
       "                        <td id=\"T_e9980_row7_col1\" class=\"data row7 col1\" >6.48</td>\n",
       "                        <td id=\"T_e9980_row7_col2\" class=\"data row7 col2\" >550.00</td>\n",
       "                        <td id=\"T_e9980_row7_col3\" class=\"data row7 col3\" >590.37</td>\n",
       "            </tr>\n",
       "    </tbody></table>"
      ],
      "text/plain": [
       "<pandas.io.formats.style.Styler at 0x7f7eb1d64e50>"
      ]
     },
     "execution_count": 62,
     "metadata": {},
     "output_type": "execute_result"
    }
   ],
   "source": [
    "# mostramos estadísticas para los cargos realizados para el plan 'surf'\n",
    "print('Estadísticas para el cargo realizado a los usuarios del **plan Surf**')\n",
    "data_consumo_historic.loc[data_consumo_historic['plan_name']=='surf','cargo_minutes':'cargo_total'].describe()\\\n",
    ".style.format('{:.2f}')"
   ]
  },
  {
   "cell_type": "code",
   "execution_count": 63,
   "metadata": {},
   "outputs": [
    {
     "name": "stdout",
     "output_type": "stream",
     "text": [
      "Estadísticas para el cargo realizado a los usuarios del **plan Ultimate**\n"
     ]
    },
    {
     "data": {
      "text/html": [
       "<style  type=\"text/css\" >\n",
       "</style><table id=\"T_63b45_\" ><thead>    <tr>        <th class=\"blank level0\" ></th>        <th class=\"col_heading level0 col0\" >cargo_minutes</th>        <th class=\"col_heading level0 col1\" >cargo_messages</th>        <th class=\"col_heading level0 col2\" >cargo_internet</th>        <th class=\"col_heading level0 col3\" >cargo_total</th>    </tr></thead><tbody>\n",
       "                <tr>\n",
       "                        <th id=\"T_63b45_level0_row0\" class=\"row_heading level0 row0\" >count</th>\n",
       "                        <td id=\"T_63b45_row0_col0\" class=\"data row0 col0\" >720.00</td>\n",
       "                        <td id=\"T_63b45_row0_col1\" class=\"data row0 col1\" >720.00</td>\n",
       "                        <td id=\"T_63b45_row0_col2\" class=\"data row0 col2\" >720.00</td>\n",
       "                        <td id=\"T_63b45_row0_col3\" class=\"data row0 col3\" >720.00</td>\n",
       "            </tr>\n",
       "            <tr>\n",
       "                        <th id=\"T_63b45_level0_row1\" class=\"row_heading level0 row1\" >mean</th>\n",
       "                        <td id=\"T_63b45_row1_col0\" class=\"data row1 col0\" >0.00</td>\n",
       "                        <td id=\"T_63b45_row1_col1\" class=\"data row1 col1\" >0.00</td>\n",
       "                        <td id=\"T_63b45_row1_col2\" class=\"data row1 col2\" >2.31</td>\n",
       "                        <td id=\"T_63b45_row1_col3\" class=\"data row1 col3\" >72.31</td>\n",
       "            </tr>\n",
       "            <tr>\n",
       "                        <th id=\"T_63b45_level0_row2\" class=\"row_heading level0 row2\" >std</th>\n",
       "                        <td id=\"T_63b45_row2_col0\" class=\"data row2 col0\" >0.00</td>\n",
       "                        <td id=\"T_63b45_row2_col1\" class=\"data row2 col1\" >0.00</td>\n",
       "                        <td id=\"T_63b45_row2_col2\" class=\"data row2 col2\" >11.40</td>\n",
       "                        <td id=\"T_63b45_row2_col3\" class=\"data row2 col3\" >11.40</td>\n",
       "            </tr>\n",
       "            <tr>\n",
       "                        <th id=\"T_63b45_level0_row3\" class=\"row_heading level0 row3\" >min</th>\n",
       "                        <td id=\"T_63b45_row3_col0\" class=\"data row3 col0\" >0.00</td>\n",
       "                        <td id=\"T_63b45_row3_col1\" class=\"data row3 col1\" >0.00</td>\n",
       "                        <td id=\"T_63b45_row3_col2\" class=\"data row3 col2\" >0.00</td>\n",
       "                        <td id=\"T_63b45_row3_col3\" class=\"data row3 col3\" >70.00</td>\n",
       "            </tr>\n",
       "            <tr>\n",
       "                        <th id=\"T_63b45_level0_row4\" class=\"row_heading level0 row4\" >25%</th>\n",
       "                        <td id=\"T_63b45_row4_col0\" class=\"data row4 col0\" >0.00</td>\n",
       "                        <td id=\"T_63b45_row4_col1\" class=\"data row4 col1\" >0.00</td>\n",
       "                        <td id=\"T_63b45_row4_col2\" class=\"data row4 col2\" >0.00</td>\n",
       "                        <td id=\"T_63b45_row4_col3\" class=\"data row4 col3\" >70.00</td>\n",
       "            </tr>\n",
       "            <tr>\n",
       "                        <th id=\"T_63b45_level0_row5\" class=\"row_heading level0 row5\" >50%</th>\n",
       "                        <td id=\"T_63b45_row5_col0\" class=\"data row5 col0\" >0.00</td>\n",
       "                        <td id=\"T_63b45_row5_col1\" class=\"data row5 col1\" >0.00</td>\n",
       "                        <td id=\"T_63b45_row5_col2\" class=\"data row5 col2\" >0.00</td>\n",
       "                        <td id=\"T_63b45_row5_col3\" class=\"data row5 col3\" >70.00</td>\n",
       "            </tr>\n",
       "            <tr>\n",
       "                        <th id=\"T_63b45_level0_row6\" class=\"row_heading level0 row6\" >75%</th>\n",
       "                        <td id=\"T_63b45_row6_col0\" class=\"data row6 col0\" >0.00</td>\n",
       "                        <td id=\"T_63b45_row6_col1\" class=\"data row6 col1\" >0.00</td>\n",
       "                        <td id=\"T_63b45_row6_col2\" class=\"data row6 col2\" >0.00</td>\n",
       "                        <td id=\"T_63b45_row6_col3\" class=\"data row6 col3\" >70.00</td>\n",
       "            </tr>\n",
       "            <tr>\n",
       "                        <th id=\"T_63b45_level0_row7\" class=\"row_heading level0 row7\" >max</th>\n",
       "                        <td id=\"T_63b45_row7_col0\" class=\"data row7 col0\" >0.00</td>\n",
       "                        <td id=\"T_63b45_row7_col1\" class=\"data row7 col1\" >0.00</td>\n",
       "                        <td id=\"T_63b45_row7_col2\" class=\"data row7 col2\" >112.00</td>\n",
       "                        <td id=\"T_63b45_row7_col3\" class=\"data row7 col3\" >182.00</td>\n",
       "            </tr>\n",
       "    </tbody></table>"
      ],
      "text/plain": [
       "<pandas.io.formats.style.Styler at 0x7f7eb1d52b20>"
      ]
     },
     "execution_count": 63,
     "metadata": {},
     "output_type": "execute_result"
    }
   ],
   "source": [
    "# mostramos estadísticas para los cargos realizados para el plan 'ultimate'\n",
    "print('Estadísticas para el cargo realizado a los usuarios del **plan Ultimate**')\n",
    "data_consumo_historic.loc[data_consumo_historic['plan_name']=='ultimate','cargo_minutes':'cargo_total'].describe()\\\n",
    ".style.format('{:.2f}')"
   ]
  },
  {
   "cell_type": "code",
   "execution_count": 64,
   "metadata": {},
   "outputs": [
    {
     "data": {
      "text/html": [
       "<div>\n",
       "<style scoped>\n",
       "    .dataframe tbody tr th:only-of-type {\n",
       "        vertical-align: middle;\n",
       "    }\n",
       "\n",
       "    .dataframe tbody tr th {\n",
       "        vertical-align: top;\n",
       "    }\n",
       "\n",
       "    .dataframe thead th {\n",
       "        text-align: right;\n",
       "    }\n",
       "</style>\n",
       "<table border=\"1\" class=\"dataframe\">\n",
       "  <thead>\n",
       "    <tr style=\"text-align: right;\">\n",
       "      <th></th>\n",
       "      <th>month</th>\n",
       "      <th>plan_name</th>\n",
       "      <th>cargo_total_mean</th>\n",
       "    </tr>\n",
       "  </thead>\n",
       "  <tbody>\n",
       "    <tr>\n",
       "      <th>0</th>\n",
       "      <td>1</td>\n",
       "      <td>surf</td>\n",
       "      <td>20.000000</td>\n",
       "    </tr>\n",
       "    <tr>\n",
       "      <th>1</th>\n",
       "      <td>1</td>\n",
       "      <td>ultimate</td>\n",
       "      <td>70.000000</td>\n",
       "    </tr>\n",
       "    <tr>\n",
       "      <th>2</th>\n",
       "      <td>2</td>\n",
       "      <td>surf</td>\n",
       "      <td>34.396667</td>\n",
       "    </tr>\n",
       "    <tr>\n",
       "      <th>3</th>\n",
       "      <td>2</td>\n",
       "      <td>ultimate</td>\n",
       "      <td>70.000000</td>\n",
       "    </tr>\n",
       "    <tr>\n",
       "      <th>4</th>\n",
       "      <td>3</td>\n",
       "      <td>surf</td>\n",
       "      <td>45.941304</td>\n",
       "    </tr>\n",
       "  </tbody>\n",
       "</table>\n",
       "</div>"
      ],
      "text/plain": [
       "   month plan_name  cargo_total_mean\n",
       "0      1      surf         20.000000\n",
       "1      1  ultimate         70.000000\n",
       "2      2      surf         34.396667\n",
       "3      2  ultimate         70.000000\n",
       "4      3      surf         45.941304"
      ]
     },
     "execution_count": 64,
     "metadata": {},
     "output_type": "execute_result"
    }
   ],
   "source": [
    "# Comparamos el cargo total promedio por mes para cada plan\n",
    "table_cargos=data_consumo_historic.pivot_table(index=['month','plan_name'],values='cargo_total',aggfunc='mean')\n",
    "table_cargos.columns=['cargo_total_mean']\n",
    "table_cargos.reset_index(inplace=True)\n",
    "table_cargos.head()"
   ]
  },
  {
   "cell_type": "code",
   "execution_count": 65,
   "metadata": {},
   "outputs": [
    {
     "data": {
      "image/png": "[encoded data removed]",
      "text/plain": [
       "<Figure size 720x360 with 1 Axes>"
      ]
     },
     "metadata": {
      "needs_background": "light"
     },
     "output_type": "display_data"
    }
   ],
   "source": [
    "# creamos una grafica de barras para visualizar el cargo total promedio por mes para cada plan\n",
    "plt.subplots(figsize=(10,5))\n",
    "sns.barplot(data=table_cargos,x='month',y='cargo_total_mean',hue='plan_name')\n",
    "plt.ylim(0,table_cargos['cargo_total_mean'].max()*1.2)\n",
    "plt.title('Cargo total promedio por mes para cada plan')\n",
    "plt.legend(loc='best')\n",
    "plt.show()"
   ]
  },
  {
   "cell_type": "markdown",
   "metadata": {},
   "source": [
    "Calculemos la media y la varianza del cargo mensual total para cada plan para concluir si los usuarios de diferentes planes muestran comportamientos distintos en sus cargos."
   ]
  },
  {
   "cell_type": "code",
   "execution_count": 66,
   "metadata": {},
   "outputs": [
    {
     "data": {
      "text/html": [
       "<style  type=\"text/css\" >\n",
       "</style><table id=\"T_48e88_\" ><thead>    <tr>        <th class=\"blank level0\" ></th>        <th class=\"col_heading level0 col0\" >mean</th>        <th class=\"col_heading level0 col1\" >var</th>        <th class=\"col_heading level0 col2\" >std</th>    </tr>    <tr>        <th class=\"blank level1\" ></th>        <th class=\"col_heading level1 col0\" >cargo_total</th>        <th class=\"col_heading level1 col1\" >cargo_total</th>        <th class=\"col_heading level1 col2\" >cargo_total</th>    </tr>    <tr>        <th class=\"index_name level0\" >plan_name</th>        <th class=\"blank\" ></th>        <th class=\"blank\" ></th>        <th class=\"blank\" ></th>    </tr></thead><tbody>\n",
       "                <tr>\n",
       "                        <th id=\"T_48e88_level0_row0\" class=\"row_heading level0 row0\" >surf</th>\n",
       "                        <td id=\"T_48e88_row0_col0\" class=\"data row0 col0\" >60.71</td>\n",
       "                        <td id=\"T_48e88_row0_col1\" class=\"data row0 col1\" >3067.84</td>\n",
       "                        <td id=\"T_48e88_row0_col2\" class=\"data row0 col2\" >55.39</td>\n",
       "            </tr>\n",
       "            <tr>\n",
       "                        <th id=\"T_48e88_level0_row1\" class=\"row_heading level0 row1\" >ultimate</th>\n",
       "                        <td id=\"T_48e88_row1_col0\" class=\"data row1 col0\" >72.31</td>\n",
       "                        <td id=\"T_48e88_row1_col1\" class=\"data row1 col1\" >129.85</td>\n",
       "                        <td id=\"T_48e88_row1_col2\" class=\"data row1 col2\" >11.40</td>\n",
       "            </tr>\n",
       "    </tbody></table>"
      ],
      "text/plain": [
       "<pandas.io.formats.style.Styler at 0x7f7eb1e46a60>"
      ]
     },
     "execution_count": 66,
     "metadata": {},
     "output_type": "execute_result"
    }
   ],
   "source": [
    "# Calculamos la media y la varianza del cargo total\n",
    "table_cargos_media=data_consumo_historic.pivot_table(index='plan_name',values='cargo_total',aggfunc=['mean','var','std'])\\\n",
    "                                                    .style.format('{:.2f}')\n",
    "table_cargos_media"
   ]
  },
  {
   "cell_type": "code",
   "execution_count": 67,
   "metadata": {},
   "outputs": [
    {
     "name": "stderr",
     "output_type": "stream",
     "text": [
      "/opt/conda/lib/python3.9/site-packages/seaborn/distributions.py:2557: FutureWarning: `distplot` is a deprecated function and will be removed in a future version. Please adapt your code to use either `displot` (a figure-level function with similar flexibility) or `histplot` (an axes-level function for histograms).\n",
      "  warnings.warn(msg, FutureWarning)\n"
     ]
    },
    {
     "data": {
      "image/png": "[encoded data removed]",
      "text/plain": [
       "<Figure size 720x576 with 2 Axes>"
      ]
     },
     "metadata": {
      "needs_background": "light"
     },
     "output_type": "display_data"
    },
    {
     "name": "stderr",
     "output_type": "stream",
     "text": [
      "/opt/conda/lib/python3.9/site-packages/seaborn/distributions.py:2557: FutureWarning: `distplot` is a deprecated function and will be removed in a future version. Please adapt your code to use either `displot` (a figure-level function with similar flexibility) or `histplot` (an axes-level function for histograms).\n",
      "  warnings.warn(msg, FutureWarning)\n"
     ]
    },
    {
     "data": {
      "image/png": "[encoded data removed]",
      "text/plain": [
       "<Figure size 720x576 with 2 Axes>"
      ]
     },
     "metadata": {
      "needs_background": "light"
     },
     "output_type": "display_data"
    }
   ],
   "source": [
    "# Trazamos un diagrama de caja para visualizar la distribución del cargo total\n",
    "for var in ['surf','ultimate']:\n",
    "    f, ax = plt.subplots(2,\n",
    "                     sharex=True,\n",
    "                     gridspec_kw={\"height_ratios\": (.20, .80)},figsize=(10,8))\n",
    "    datos=data_consumo_historic.query('plan_name==@var')\n",
    "    # gráfico boxplot\n",
    "    sns.boxplot(x=datos['cargo_total'],data=datos,ax=ax[0],palette='YlGnBu_r')\n",
    "    # gráfico de distribución\n",
    "    sns.distplot(datos['cargo_total'],bins=50,ax=ax[1])\n",
    "    # media de los datos en el histograma\n",
    "    ax[1].axvline(datos['cargo_total'].mean(), color='red')\n",
    "    plt.title('Distribución del cargo total para el plan '+var)\n",
    "    plt.show()"
   ]
  },
  {
   "cell_type": "markdown",
   "metadata": {},
   "source": [
    "Conclusión:\n",
    "- Al parecer el plan `'ultimate'` presenta un cargo promedio más alto que el plan `'surf'`, así cómo una menor variación."
   ]
  },
  {
   "cell_type": "markdown",
   "metadata": {},
   "source": [
    " "
   ]
  },
  {
   "cell_type": "markdown",
   "metadata": {},
   "source": [
    "[Contenido](#contenido)\n",
    "## Probar las hipótesis estadísticas"
   ]
  },
  {
   "cell_type": "markdown",
   "metadata": {},
   "source": [
    "Probemos la hipótesis siguiente:\n",
    "- **Hipótesis nula**: Los ingresos promedio (cargos totales promedios) de los usuarios de los planes `'ultimate'` y `'surf'` son iguales.  \n",
    "- **Hipótesis alternativa**: Los ingresos promedio (cargos totales promedios) de los usuarios de los planes `'ultimate'` y `'surf'` no son iguales."
   ]
  },
  {
   "cell_type": "markdown",
   "metadata": {},
   "source": [
    "Usaremos la prueba estadística `'t de Student'`  con un nivel **alpha=0.05** de significancia. El parámtero `'equal_var'` lo pondremos en `'False'` ya que sus varianzas son muy diferentes."
   ]
  },
  {
   "cell_type": "code",
   "execution_count": 68,
   "metadata": {},
   "outputs": [
    {
     "name": "stdout",
     "output_type": "stream",
     "text": [
      "La varianza de sample_surf es: 198.0355130973841\n",
      "La varianza de sample_ultimate es: 1.7056240167926762\n",
      "\n",
      "p-value:  [0.00049702]\n",
      "Rechazamos la hipótesis nula\n"
     ]
    }
   ],
   "source": [
    "# Prueba de hipótesis\n",
    "# el nivel de significancia estadística\n",
    "alpha = 0.05\n",
    "\n",
    "# creamos el set de datos de los cargos totales promedios para cada plan\n",
    "sample_surf=data_consumo_historic.query('plan_name==\"surf\"')\\\n",
    "            .pivot_table(index='month',values='cargo_total',aggfunc='mean')\n",
    "\n",
    "sample_ultimate=data_consumo_historic.query('plan_name==\"ultimate\"')\\\n",
    "            .pivot_table(index='month',values='cargo_total',aggfunc='mean')\n",
    "\n",
    "results = st.ttest_ind(sample_surf, sample_ultimate,equal_var=False)\n",
    "\n",
    "# mostramos las varianzas de cada muestra\n",
    "print(f'La varianza de sample_surf es: {np.var(sample_surf)[0]}',end='\\n')\n",
    "print(f'La varianza de sample_ultimate es: {np.var(sample_ultimate)[0]}',end='\\n\\n')\n",
    "print('p-value: ', results.pvalue)\n",
    "\n",
    "# si el valor p es menor que alfa, rechazamos la hipótesis\n",
    "if results.pvalue < alpha:\n",
    "    print(\"Rechazamos la hipótesis nula\")\n",
    "else:\n",
    "    print(\"No rechazamos la hipótesis nula\") "
   ]
  },
  {
   "cell_type": "markdown",
   "metadata": {},
   "source": [
    "**El resultado de la prueba anterior nos dice que los ingresos promedio (cargos totales promedios) de los usuarios de los planes `'ultimate'` y `'surf'` no son iguales.**"
   ]
  },
  {
   "cell_type": "markdown",
   "metadata": {},
   "source": [
    "Ahora probemos la hipótesis siguiente:\n",
    "- **Hipótesis nula**: Los ingresos promedio (cargos totales promedios) de los usuarios del área NY-NJ y las demás regiones son iguales.\n",
    "- **Hipótesis alternativa**: Los ingresos promedio (cargos totales promedios) de los usuarios del área NY-NJ y las demás regiones no son iguales.  "
   ]
  },
  {
   "cell_type": "markdown",
   "metadata": {},
   "source": [
    "Usaremos la prueba estadística `'t de Student'`  con un nivel **alpha=0.05** de significancia. El parámtero `'equal_var'` lo pondremos en `'False'` ya que sus varianzas son muy diferentes."
   ]
  },
  {
   "cell_type": "code",
   "execution_count": 69,
   "metadata": {
    "scrolled": true
   },
   "outputs": [
    {
     "name": "stdout",
     "output_type": "stream",
     "text": [
      "La varianza de sample_NY_NJ es: 96.46941614656724\n",
      "La varianza de sample_other_cities es: 47.76366790748491\n",
      "\n",
      "p-value:  [0.07903841]\n",
      "No rechazamos la hipótesis nula\n"
     ]
    }
   ],
   "source": [
    "# Prueba de hipótesis\n",
    "# el nivel de significancia estadística\n",
    "alpha = 0.05\n",
    "\n",
    "# creamos el set de datos de los cargos totales promedios para cada región\n",
    "sample_NY_NJ=data_consumo_historic.query('city==\"New York-Newark-Jersey City, NY-NJ-PA MSA\"')\\\n",
    "            .pivot_table(index='month',values='cargo_total',aggfunc='mean')\n",
    "\n",
    "sample_other_cities=data_consumo_historic.query('city!=\"New York-Newark-Jersey City, NY-NJ-PA MSA\"')\\\n",
    "            .pivot_table(index='month',values='cargo_total',aggfunc='mean')\n",
    "\n",
    "results = st.ttest_ind(sample_NY_NJ, sample_other_cities,equal_var=False)\n",
    "\n",
    "# mostramos las varianzas de cada muestra\n",
    "print(f'La varianza de sample_NY_NJ es: {np.var(sample_NY_NJ)[0]}',end='\\n')\n",
    "print(f'La varianza de sample_other_cities es: {np.var(sample_other_cities)[0]}',end='\\n\\n')\n",
    "print('p-value: ', results.pvalue)\n",
    "\n",
    "# si el valor p es menor que alfa, rechazamos la hipótesis\n",
    "if results.pvalue < alpha:\n",
    "    print(\"Rechazamos la hipótesis nula\")\n",
    "else:\n",
    "    print(\"No rechazamos la hipótesis nula\")"
   ]
  },
  {
   "cell_type": "markdown",
   "metadata": {},
   "source": [
    "**El resultado de la prueba anterior nos dice que no podemos rechazar la hipótesis nula de que los ingresos promedio (cargos totales promedios) entre los usuarios del área de NY-NJ y las demás regiones son iguales.**"
   ]
  },
  {
   "cell_type": "markdown",
   "metadata": {},
   "source": [
    "[Contenido](#contenido)\n",
    "## Conclusión general\n",
    "---\n",
    "\n",
    "1. **Los ingresos promedio (cargos totales promedios) de los usuarios de los planes `'ultimate'` y `'surf'` no son iguales.**\n",
    "1. Al parecer los ingresos promedio (cargos totales promedios) de los usuarios del plan `'ultimate'` presentan una menor variación que los usuarios del plan `'surf'`.\n",
    "1. **Los ingresos promedio (cargos totales promedios) entre los usuarios del área de NY-NJ y las demás regiones parecen ser iguales.**\n",
    "1. Al parecer los ingresos promedio (cargos totales promedios) entre los usuarios del área de NY-NJ presentan una mayor variación que los ingresos promedio en las demás regiones.\n",
    "\n",
    "Las pruebas se realizarón usando la opción de varianzas distintas entre las poblaciones, ya que claramente sus varianzas eran muy distintas."
   ]
  }
 ],
 "metadata": {
  "ExecuteTimeLog": [
   {
    "duration": 828,
    "start_time": "2021-11-16T09:21:11.304Z"
   },
   {
    "duration": 893,
    "start_time": "2021-11-16T09:21:17.728Z"
   },
   {
    "duration": 1150,
    "start_time": "2021-11-16T09:21:29.568Z"
   },
   {
    "duration": 3,
    "start_time": "2021-11-16T09:24:14.495Z"
   },
   {
    "duration": 120,
    "start_time": "2021-11-16T09:24:46.630Z"
   },
   {
    "duration": 3,
    "start_time": "2021-11-16T09:28:27.882Z"
   },
   {
    "duration": 4,
    "start_time": "2021-11-16T09:29:54.281Z"
   },
   {
    "duration": 3,
    "start_time": "2021-11-16T09:30:45.936Z"
   },
   {
    "duration": 4,
    "start_time": "2021-11-16T09:31:06.300Z"
   },
   {
    "duration": 113,
    "start_time": "2021-11-16T09:31:37.208Z"
   },
   {
    "duration": 143,
    "start_time": "2021-11-16T09:31:48.656Z"
   },
   {
    "duration": 98,
    "start_time": "2021-11-16T09:31:55.678Z"
   },
   {
    "duration": 3,
    "start_time": "2021-11-16T09:32:08.535Z"
   },
   {
    "duration": 111,
    "start_time": "2021-11-16T09:32:10.120Z"
   },
   {
    "duration": 3,
    "start_time": "2021-11-16T09:32:15.732Z"
   },
   {
    "duration": 4,
    "start_time": "2021-11-16T09:32:29.423Z"
   },
   {
    "duration": 3,
    "start_time": "2021-11-16T10:03:03.074Z"
   },
   {
    "duration": 3,
    "start_time": "2021-11-16T10:10:01.288Z"
   },
   {
    "duration": 3,
    "start_time": "2021-11-16T10:10:46.923Z"
   },
   {
    "duration": 121,
    "start_time": "2021-11-16T10:37:46.494Z"
   },
   {
    "duration": 125,
    "start_time": "2021-11-16T10:38:20.632Z"
   },
   {
    "duration": 112,
    "start_time": "2021-11-16T10:46:53.001Z"
   },
   {
    "duration": 110,
    "start_time": "2021-11-16T10:48:25.775Z"
   },
   {
    "duration": 3,
    "start_time": "2021-11-16T10:50:18.720Z"
   },
   {
    "duration": 4,
    "start_time": "2021-11-16T10:50:37.649Z"
   },
   {
    "duration": 2,
    "start_time": "2021-11-16T10:50:51.884Z"
   },
   {
    "duration": 3,
    "start_time": "2021-11-16T10:51:56.237Z"
   },
   {
    "duration": 101,
    "start_time": "2021-11-16T10:53:13.791Z"
   },
   {
    "duration": 3,
    "start_time": "2021-11-16T10:55:59.186Z"
   },
   {
    "duration": 3,
    "start_time": "2021-11-16T10:56:10.751Z"
   },
   {
    "duration": 3,
    "start_time": "2021-11-16T10:56:49.038Z"
   },
   {
    "duration": 3,
    "start_time": "2021-11-16T10:56:49.174Z"
   },
   {
    "duration": 4,
    "start_time": "2021-11-16T10:56:49.414Z"
   },
   {
    "duration": 3,
    "start_time": "2021-11-16T10:56:49.680Z"
   },
   {
    "duration": 3,
    "start_time": "2021-11-16T10:56:50.370Z"
   },
   {
    "duration": 114,
    "start_time": "2021-11-16T10:59:34.518Z"
   },
   {
    "duration": 3,
    "start_time": "2021-11-16T11:01:41.201Z"
   },
   {
    "duration": 116,
    "start_time": "2021-11-16T11:01:48.754Z"
   },
   {
    "duration": 3,
    "start_time": "2021-11-16T11:02:16.685Z"
   },
   {
    "duration": 3,
    "start_time": "2021-11-16T11:02:19.479Z"
   },
   {
    "duration": 3,
    "start_time": "2021-11-16T11:02:47.067Z"
   },
   {
    "duration": 3,
    "start_time": "2021-11-16T11:02:49.353Z"
   },
   {
    "duration": 3,
    "start_time": "2021-11-16T11:03:07.835Z"
   },
   {
    "duration": 3,
    "start_time": "2021-11-16T11:03:07.953Z"
   },
   {
    "duration": 112,
    "start_time": "2021-11-16T11:07:52.072Z"
   },
   {
    "duration": 187,
    "start_time": "2021-11-16T11:09:23.468Z"
   },
   {
    "duration": 4,
    "start_time": "2021-11-16T11:10:01.455Z"
   },
   {
    "duration": 3,
    "start_time": "2021-11-16T11:10:05.069Z"
   },
   {
    "duration": 4,
    "start_time": "2021-11-16T11:10:13.376Z"
   },
   {
    "duration": 3,
    "start_time": "2021-11-16T11:10:14.434Z"
   },
   {
    "duration": 3,
    "start_time": "2021-11-16T11:10:22.853Z"
   },
   {
    "duration": 4,
    "start_time": "2021-11-16T11:27:29.279Z"
   },
   {
    "duration": 4,
    "start_time": "2021-11-16T11:29:08.919Z"
   },
   {
    "duration": 118,
    "start_time": "2021-11-16T11:29:46.703Z"
   },
   {
    "duration": 437,
    "start_time": "2021-11-16T11:36:02.181Z"
   },
   {
    "duration": 157,
    "start_time": "2021-11-16T11:36:14.388Z"
   },
   {
    "duration": 207,
    "start_time": "2021-11-16T11:47:15.898Z"
   },
   {
    "duration": 3,
    "start_time": "2021-11-16T11:53:52.092Z"
   },
   {
    "duration": 3,
    "start_time": "2021-11-16T11:53:52.236Z"
   },
   {
    "duration": 3,
    "start_time": "2021-11-16T11:59:12.005Z"
   },
   {
    "duration": 112,
    "start_time": "2021-11-16T12:00:33.446Z"
   },
   {
    "duration": 3,
    "start_time": "2021-11-16T12:02:14.453Z"
   },
   {
    "duration": 3,
    "start_time": "2021-11-16T12:02:39.512Z"
   },
   {
    "duration": 106,
    "start_time": "2021-11-16T12:03:03.460Z"
   },
   {
    "duration": 3,
    "start_time": "2021-11-17T20:37:21.139Z"
   },
   {
    "duration": 3,
    "start_time": "2021-11-17T20:37:22.229Z"
   },
   {
    "duration": 3,
    "start_time": "2021-11-17T20:38:38.806Z"
   },
   {
    "duration": 3,
    "start_time": "2021-11-17T20:38:41.958Z"
   },
   {
    "duration": 3,
    "start_time": "2021-11-17T20:43:46.551Z"
   },
   {
    "duration": 4,
    "start_time": "2021-11-17T20:58:21.835Z"
   },
   {
    "duration": 3,
    "start_time": "2021-11-17T20:59:21.872Z"
   },
   {
    "duration": 4,
    "start_time": "2021-11-17T20:59:45.352Z"
   },
   {
    "duration": 4,
    "start_time": "2021-11-17T20:59:49.646Z"
   },
   {
    "duration": 159,
    "start_time": "2021-11-17T21:02:26.949Z"
   },
   {
    "duration": 3,
    "start_time": "2021-11-17T21:03:53.461Z"
   },
   {
    "duration": 3,
    "start_time": "2021-11-17T21:03:53.694Z"
   },
   {
    "duration": 3,
    "start_time": "2021-11-17T21:05:28.145Z"
   },
   {
    "duration": 116,
    "start_time": "2021-11-17T21:05:57.787Z"
   },
   {
    "duration": 3,
    "start_time": "2021-11-17T21:06:37.993Z"
   },
   {
    "duration": 3,
    "start_time": "2021-11-17T21:06:38.261Z"
   },
   {
    "duration": 3,
    "start_time": "2021-11-17T21:11:54.358Z"
   },
   {
    "duration": 3,
    "start_time": "2021-11-17T21:12:43.846Z"
   },
   {
    "duration": 4,
    "start_time": "2021-11-17T21:13:08.773Z"
   },
   {
    "duration": 3,
    "start_time": "2021-11-17T21:14:44.441Z"
   },
   {
    "duration": 3,
    "start_time": "2021-11-17T21:15:42.059Z"
   },
   {
    "duration": 4,
    "start_time": "2021-11-17T21:15:51.995Z"
   },
   {
    "duration": 3,
    "start_time": "2021-11-17T21:15:53.923Z"
   },
   {
    "duration": 3,
    "start_time": "2021-11-17T21:15:55.282Z"
   },
   {
    "duration": 3,
    "start_time": "2021-11-17T21:16:28.492Z"
   },
   {
    "duration": 3,
    "start_time": "2021-11-17T21:16:32.603Z"
   },
   {
    "duration": 3,
    "start_time": "2021-11-17T21:17:06.941Z"
   },
   {
    "duration": 98,
    "start_time": "2021-11-17T21:18:05.733Z"
   },
   {
    "duration": 4,
    "start_time": "2021-11-17T21:21:35.255Z"
   },
   {
    "duration": 3,
    "start_time": "2021-11-17T21:21:37.804Z"
   },
   {
    "duration": 4,
    "start_time": "2021-11-17T21:23:06.071Z"
   },
   {
    "duration": 3,
    "start_time": "2021-11-17T21:23:24.799Z"
   },
   {
    "duration": 3,
    "start_time": "2021-11-17T21:23:32.591Z"
   },
   {
    "duration": 98,
    "start_time": "2021-11-17T21:28:31.559Z"
   },
   {
    "duration": 3,
    "start_time": "2021-11-17T21:28:45.448Z"
   },
   {
    "duration": 3,
    "start_time": "2021-11-17T21:29:17.303Z"
   },
   {
    "duration": 3,
    "start_time": "2021-11-17T21:29:29.617Z"
   },
   {
    "duration": 3,
    "start_time": "2021-11-17T21:29:32.681Z"
   },
   {
    "duration": 3,
    "start_time": "2021-11-17T21:36:11.474Z"
   },
   {
    "duration": 3,
    "start_time": "2021-11-17T21:36:14.791Z"
   },
   {
    "duration": 3,
    "start_time": "2021-11-17T21:36:53.943Z"
   },
   {
    "duration": 3,
    "start_time": "2021-11-17T21:36:56.165Z"
   },
   {
    "duration": 4,
    "start_time": "2021-11-17T21:37:16.590Z"
   },
   {
    "duration": 3,
    "start_time": "2021-11-17T21:37:22.702Z"
   },
   {
    "duration": 4,
    "start_time": "2021-11-17T21:38:03.479Z"
   },
   {
    "duration": 3,
    "start_time": "2021-11-17T21:38:08.601Z"
   },
   {
    "duration": 3,
    "start_time": "2021-11-17T21:38:12.928Z"
   },
   {
    "duration": 3,
    "start_time": "2021-11-17T21:38:48.896Z"
   },
   {
    "duration": 2,
    "start_time": "2021-11-17T21:38:49.171Z"
   },
   {
    "duration": 4,
    "start_time": "2021-11-17T21:39:57.889Z"
   },
   {
    "duration": 3,
    "start_time": "2021-11-17T21:39:58.057Z"
   },
   {
    "duration": 3,
    "start_time": "2021-11-17T21:41:20.108Z"
   },
   {
    "duration": 3,
    "start_time": "2021-11-17T21:41:20.629Z"
   },
   {
    "duration": 3,
    "start_time": "2021-11-17T21:42:49.136Z"
   },
   {
    "duration": 3,
    "start_time": "2021-11-17T21:43:15.137Z"
   },
   {
    "duration": 4,
    "start_time": "2021-11-17T21:43:16.766Z"
   },
   {
    "duration": 4,
    "start_time": "2021-11-17T21:43:31.711Z"
   },
   {
    "duration": 3,
    "start_time": "2021-11-17T21:43:36.312Z"
   },
   {
    "duration": 4,
    "start_time": "2021-11-17T21:45:08.825Z"
   },
   {
    "duration": 4,
    "start_time": "2021-11-17T21:45:10.119Z"
   },
   {
    "duration": 4,
    "start_time": "2021-11-17T21:45:13.748Z"
   },
   {
    "duration": 3,
    "start_time": "2021-11-17T21:45:22.219Z"
   },
   {
    "duration": 3,
    "start_time": "2021-11-17T21:45:33.412Z"
   },
   {
    "duration": 2,
    "start_time": "2021-11-17T21:46:01.885Z"
   },
   {
    "duration": 3,
    "start_time": "2021-11-17T21:46:03.628Z"
   },
   {
    "duration": 107,
    "start_time": "2021-11-17T21:47:32.512Z"
   },
   {
    "duration": 103,
    "start_time": "2021-11-17T21:50:36.243Z"
   },
   {
    "duration": 3,
    "start_time": "2021-11-18T06:28:31.440Z"
   },
   {
    "duration": 3,
    "start_time": "2021-11-18T06:29:00.168Z"
   },
   {
    "duration": 3,
    "start_time": "2021-11-18T06:31:27.008Z"
   },
   {
    "duration": 2,
    "start_time": "2021-11-18T06:35:34.288Z"
   },
   {
    "duration": 2,
    "start_time": "2021-11-18T06:38:04.527Z"
   }
  ],
  "kernelspec": {
   "display_name": "Python 3 (ipykernel)",
   "language": "python",
   "name": "python3"
  },
  "language_info": {
   "codemirror_mode": {
    "name": "ipython",
    "version": 3
   },
   "file_extension": ".py",
   "mimetype": "text/x-python",
   "name": "python",
   "nbconvert_exporter": "python",
   "pygments_lexer": "ipython3",
   "version": "3.9.13"
  },
  "toc": {
   "base_numbering": 1,
   "nav_menu": {},
   "number_sections": true,
   "sideBar": true,
   "skip_h1_title": true,
   "title_cell": "Table of Contents",
   "title_sidebar": "Contents",
   "toc_cell": true,
   "toc_position": {
    "height": "calc(100% - 180px)",
    "left": "10px",
    "top": "150px",
    "width": "303.975px"
   },
   "toc_section_display": true,
   "toc_window_display": false
  }
 },
 "nbformat": 4,
 "nbformat_minor": 4
}
